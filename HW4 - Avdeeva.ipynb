{
 "cells": [
  {
   "cell_type": "markdown",
   "metadata": {
    "application/vnd.databricks.v1+cell": {
     "cellMetadata": {},
     "inputWidgets": {},
     "nuid": "962058bd-ad09-4c9b-845e-5f2a3b5613e1",
     "showTitle": false,
     "tableResultSettingsMap": {},
     "title": ""
    }
   },
   "source": [
    "## Imports"
   ]
  },
  {
   "cell_type": "code",
   "execution_count": 0,
   "metadata": {
    "application/vnd.databricks.v1+cell": {
     "cellMetadata": {
      "byteLimit": 2048000,
      "rowLimit": 10000
     },
     "inputWidgets": {},
     "nuid": "d3812610-ce20-4fb9-aa62-51e07f3a962b",
     "showTitle": false,
     "tableResultSettingsMap": {},
     "title": ""
    }
   },
   "outputs": [],
   "source": [
    "from pyspark.sql.functions import lit, col, hour, unix_timestamp, dayofweek\n",
    "from pyspark.sql.types import *\n",
    "from pyspark.sql import functions as f\n",
    "from pyspark.sql.functions import broadcast"
   ]
  },
  {
   "cell_type": "markdown",
   "metadata": {
    "application/vnd.databricks.v1+cell": {
     "cellMetadata": {},
     "inputWidgets": {},
     "nuid": "d42a746d-509a-42c1-8e3c-3be9b60607d9",
     "showTitle": false,
     "tableResultSettingsMap": {},
     "title": ""
    }
   },
   "source": [
    "## Setting up Unity Catalog"
   ]
  },
  {
   "cell_type": "code",
   "execution_count": 0,
   "metadata": {
    "application/vnd.databricks.v1+cell": {
     "cellMetadata": {
      "byteLimit": 2048000,
      "implicitDf": true,
      "rowLimit": 10000
     },
     "inputWidgets": {},
     "nuid": "d661c21c-1198-4df5-a9b2-fae34146f9b1",
     "showTitle": false,
     "tableResultSettingsMap": {},
     "title": ""
    }
   },
   "outputs": [],
   "source": [
    "%sql\n",
    "CREATE CATALOG havdeeva_nyc_catalog\n",
    "MANAGED LOCATION 's3://havdeeva-databricks/catalog_data/';\n",
    "\n",
    "-- SHOW CATALOGS;\n",
    "\n",
    "CREATE SCHEMA havdeeva_nyc_catalog.trips_schema;\n",
    "\n",
    "-- SHOW SCHEMAS IN havdeeva_nyc_catalog;\n",
    "\n",
    "USE CATALOG havdeeva_nyc_catalog;\n",
    "-- SELECT current_catalog(), current_schema();\n",
    "\n",
    "GRANT ALL PRIVILEGES ON CATALOG `havdeeva_nyc_catalog` TO `deniskulemza1@gmail.com`"
   ]
  },
  {
   "cell_type": "markdown",
   "metadata": {
    "application/vnd.databricks.v1+cell": {
     "cellMetadata": {},
     "inputWidgets": {},
     "nuid": "b116b678-8844-4839-86f2-5a11a4e5fb29",
     "showTitle": false,
     "tableResultSettingsMap": {},
     "title": ""
    }
   },
   "source": [
    "## Import Yellow and Green Taxi data"
   ]
  },
  {
   "cell_type": "code",
   "execution_count": 0,
   "metadata": {
    "application/vnd.databricks.v1+cell": {
     "cellMetadata": {
      "byteLimit": 2048000,
      "rowLimit": 10000
     },
     "inputWidgets": {},
     "nuid": "ae493af9-a430-4ed4-8d0c-4042947a9cd3",
     "showTitle": false,
     "tableResultSettingsMap": {},
     "title": ""
    }
   },
   "outputs": [],
   "source": [
    "%run \"./Dataframes unification function\""
   ]
  },
  {
   "cell_type": "code",
   "execution_count": 0,
   "metadata": {
    "application/vnd.databricks.v1+cell": {
     "cellMetadata": {
      "byteLimit": 2048000,
      "rowLimit": 10000
     },
     "inputWidgets": {},
     "nuid": "1175c701-2c88-4d5f-be3e-b4e7a5085d91",
     "showTitle": false,
     "tableResultSettingsMap": {},
     "title": ""
    }
   },
   "outputs": [],
   "source": [
    "# Define path\n",
    "yellow_taxi_path = \"s3://robot-dreams-source-data/home-work-1/nyc_taxi/yellow\"\n",
    "green_taxi_path = \"s3://robot-dreams-source-data/home-work-1/nyc_taxi/green\"\n",
    "\n",
    "# Define schemas\n",
    "yellow_target_schema = StructType([\n",
    "    StructField(\"VendorID\", LongType(), True),\n",
    "    StructField(\"tpep_pickup_datetime\", TimestampType(), True),\n",
    "    StructField(\"tpep_dropoff_datetime\", TimestampType(), True),\n",
    "    StructField(\"passenger_count\", LongType(), True),\n",
    "    StructField(\"trip_distance\", DoubleType(), True),\n",
    "    StructField(\"RatecodeID\", LongType(), True),\n",
    "    StructField(\"store_and_fwd_flag\", StringType(), True),\n",
    "    StructField(\"PULocationID\", LongType(), True),\n",
    "    StructField(\"DOLocationID\", LongType(), True),\n",
    "    StructField(\"payment_type\", LongType(), True),\n",
    "    StructField(\"fare_amount\", DoubleType(), True),\n",
    "    StructField(\"extra\", DoubleType(), True),\n",
    "    StructField(\"mta_tax\", DoubleType(), True),\n",
    "    StructField(\"tip_amount\", DoubleType(), True),\n",
    "    StructField(\"tolls_amount\", DoubleType(), True),\n",
    "    StructField(\"improvement_surcharge\", DoubleType(), True),\n",
    "    StructField(\"total_amount\", DoubleType(), True),\n",
    "    StructField(\"congestion_surcharge\", DoubleType(), True),\n",
    "    StructField(\"airport_fee\", DoubleType(), True),\n",
    "])\n",
    "\n",
    "green_target_schema = StructType([\n",
    "    StructField(\"VendorID\", LongType(), True),\n",
    "    StructField(\"lpep_pickup_datetime\", TimestampType(), True),\n",
    "    StructField(\"lpep_dropoff_datetime\", TimestampType(), True),\n",
    "    StructField(\"store_and_fwd_flag\", StringType(), True),\n",
    "    StructField(\"RatecodeID\", LongType(), True),\n",
    "    StructField(\"PULocationID\", LongType(), True),\n",
    "    StructField(\"DOLocationID\", LongType(), True),\n",
    "    StructField(\"passenger_count\", LongType(), True),\n",
    "    StructField(\"trip_distance\", DoubleType(), True),\n",
    "    StructField(\"fare_amount\", DoubleType(), True),\n",
    "    StructField(\"extra\", DoubleType(), True),\n",
    "    StructField(\"mta_tax\", DoubleType(), True),\n",
    "    StructField(\"tip_amount\", DoubleType(), True),\n",
    "    StructField(\"tolls_amount\", DoubleType(), True),\n",
    "    StructField(\"ehail_fee\", DoubleType(), True),\n",
    "    StructField(\"improvement_surcharge\", DoubleType(), True),\n",
    "    StructField(\"total_amount\", DoubleType(), True),\n",
    "    StructField(\"payment_type\", LongType(), True),\n",
    "    StructField(\"trip_type\", DoubleType(), True),\n",
    "    StructField(\"congestion_surcharge\", DoubleType(), True),\n",
    "])\n",
    "\n",
    "# Apply unification function to data\n",
    "yellow_taxi_df = process_parquet_files(spark, yellow_taxi_path, yellow_target_schema)\n",
    "green_taxi_df = process_parquet_files(spark, green_taxi_path, green_target_schema)\n",
    "\n",
    "# Check the results\n",
    "# display(yellow_taxi_df)\n",
    "yellow_taxi_df.printSchema()\n",
    "# display(green_taxi_df)\n",
    "green_taxi_df.printSchema()\n",
    "\n",
    "# Unify columns and add 'taxi_type' column\n",
    "green_taxi_df = green_taxi_df \\\n",
    "    .withColumn(\"taxi_type\", lit(\"green\")) \\\n",
    "    .withColumnRenamed(\"lpep_pickup_datetime\", \"pickup_datetime\") \\\n",
    "    .withColumnRenamed(\"lpep_dropoff_datetime\", \"dropoff_datetime\")\n",
    "\n",
    "yellow_taxi_df = yellow_taxi_df \\\n",
    "    .withColumn(\"taxi_type\", lit(\"yellow\")) \\\n",
    "    .withColumnRenamed(\"tpep_pickup_datetime\", \"pickup_datetime\") \\\n",
    "    .withColumnRenamed(\"tpep_dropoff_datetime\", \"dropoff_datetime\")"
   ]
  },
  {
   "cell_type": "code",
   "execution_count": 0,
   "metadata": {
    "application/vnd.databricks.v1+cell": {
     "cellMetadata": {
      "byteLimit": 2048000,
      "rowLimit": 10000
     },
     "inputWidgets": {},
     "nuid": "40e0df4d-a65a-4b9f-91c2-dc59490f81d8",
     "showTitle": false,
     "tableResultSettingsMap": {},
     "title": ""
    }
   },
   "outputs": [],
   "source": [
    "yellow_taxi_df.display()"
   ]
  },
  {
   "cell_type": "code",
   "execution_count": 0,
   "metadata": {
    "application/vnd.databricks.v1+cell": {
     "cellMetadata": {},
     "inputWidgets": {},
     "nuid": "1fa8f1d2-5ba5-467a-8d18-38da871756a2",
     "showTitle": false,
     "tableResultSettingsMap": {},
     "title": ""
    }
   },
   "outputs": [],
   "source": [
    "display(yellow_taxi_df)"
   ]
  },
  {
   "cell_type": "markdown",
   "metadata": {
    "application/vnd.databricks.v1+cell": {
     "cellMetadata": {},
     "inputWidgets": {},
     "nuid": "4aaf5387-46ca-4c58-aa7c-a262a196dfc7",
     "showTitle": false,
     "tableResultSettingsMap": {},
     "title": ""
    }
   },
   "source": [
    "## Combine the data into a single raw_trips_df dataframe"
   ]
  },
  {
   "cell_type": "code",
   "execution_count": 0,
   "metadata": {
    "application/vnd.databricks.v1+cell": {
     "cellMetadata": {
      "byteLimit": 2048000,
      "rowLimit": 10000
     },
     "inputWidgets": {},
     "nuid": "1a515867-4f64-4a31-bc67-e762c2f289e1",
     "showTitle": false,
     "tableResultSettingsMap": {},
     "title": ""
    }
   },
   "outputs": [],
   "source": [
    "# Union the data\n",
    "raw_trips_df = yellow_taxi_df.unionByName(green_taxi_df, allowMissingColumns = True)\n",
    "\n",
    "# Check the schema\n",
    "print(\"United dataframe schema:\")\n",
    "raw_trips_df.printSchema()\n",
    "\n",
    "# Cache raw_trips_df data for better perfomance  \n",
    "# raw_trips_df.cache()\n",
    "\n",
    "# Data check to test union \n",
    "# raw_trips_df.count() # + trigger catching as an action\n",
    "\n",
    "# raw_trips_df.rdd.getNumPartitions()"
   ]
  },
  {
   "cell_type": "markdown",
   "metadata": {
    "application/vnd.databricks.v1+cell": {
     "cellMetadata": {},
     "inputWidgets": {},
     "nuid": "e4d96d74-4d2c-4bb2-9f9c-8fb2ffb9c04a",
     "showTitle": false,
     "tableResultSettingsMap": {},
     "title": ""
    }
   },
   "source": [
    "## Filter out anomalous records"
   ]
  },
  {
   "cell_type": "code",
   "execution_count": 0,
   "metadata": {
    "application/vnd.databricks.v1+cell": {
     "cellMetadata": {
      "byteLimit": 2048000,
      "rowLimit": 10000
     },
     "inputWidgets": {},
     "nuid": "389b5bf1-090d-4738-a7c4-96ac6db485ed",
     "showTitle": false,
     "tableResultSettingsMap": {},
     "title": ""
    }
   },
   "outputs": [],
   "source": [
    "# Define filter conditions for valid data\n",
    "valid_condition = (\n",
    "    (col(\"trip_distance\") >= 0.1) &  # trips with distance >= 0.1 km\n",
    "    (col(\"fare_amount\") >= 2) &      # trips with fare amount >= $2\n",
    "    ((unix_timestamp(col(\"dropoff_datetime\")) - unix_timestamp(col(\"pickup_datetime\"))) >= 60)  # trips with duration >= 1 minute\n",
    ")\n",
    "\n",
    "# Filter valid trips (normal trips)\n",
    "filtered_trips_df = raw_trips_df.filter(valid_condition)\n",
    "\n",
    "# Filtering abnormal trips \n",
    "abnormal_trips_df = raw_trips_df.filter(~valid_condition)  \n",
    "\n",
    "# Show example of filtered data\n",
    "display(filtered_trips_df)\n",
    "\n",
    "# Show example of abnormal data\n",
    "display(abnormal_trips_df)"
   ]
  },
  {
   "cell_type": "markdown",
   "metadata": {
    "application/vnd.databricks.v1+cell": {
     "cellMetadata": {},
     "inputWidgets": {},
     "nuid": "c74d995d-f3c2-4d7c-90a8-a47b110a62e0",
     "showTitle": false,
     "tableResultSettingsMap": {},
     "title": ""
    }
   },
   "source": [
    "## *Save abnormal data to DELTA table"
   ]
  },
  {
   "cell_type": "code",
   "execution_count": 0,
   "metadata": {
    "application/vnd.databricks.v1+cell": {
     "cellMetadata": {},
     "inputWidgets": {},
     "nuid": "4d7b9eae-d020-474f-9fcb-2a5b9bc2f3ee",
     "showTitle": false,
     "tableResultSettingsMap": {},
     "title": ""
    }
   },
   "outputs": [],
   "source": [
    "%sql\n",
    "CREATE OR REPLACE TABLE havdeeva_nyc_catalog.trips_schema.raw_trips_abnormal (\n",
    "    VendorID LONG,\n",
    "    pickup_datetime TIMESTAMP,\n",
    "    dropoff_datetime TIMESTAMP,\n",
    "    passenger_count LONG,\n",
    "    trip_distance DOUBLE,\n",
    "    RatecodeID LONG,\n",
    "    store_and_fwd_flag STRING,\n",
    "    PULocationID LONG,\n",
    "    DOLocationID LONG,\n",
    "    payment_type LONG,\n",
    "    fare_amount DOUBLE,\n",
    "    extra DOUBLE,\n",
    "    mta_tax DOUBLE,\n",
    "    tip_amount DOUBLE,\n",
    "    tolls_amount DOUBLE,\n",
    "    improvement_surcharge DOUBLE,\n",
    "    total_amount DOUBLE,\n",
    "    congestion_surcharge DOUBLE,\n",
    "    airport_fee DOUBLE,\n",
    "    taxi_type STRING NOT NULL,\n",
    "    ehail_fee DOUBLE,\n",
    "    trip_type DOUBLE\n",
    ")\n",
    "USING DELTA\n",
    "TBLPROPERTIES (\n",
    "    'delta.feature.timestampNtz' = 'supported'\n",
    ");"
   ]
  },
  {
   "cell_type": "code",
   "execution_count": 0,
   "metadata": {
    "application/vnd.databricks.v1+cell": {
     "cellMetadata": {
      "byteLimit": 2048000,
      "rowLimit": 10000
     },
     "inputWidgets": {},
     "nuid": "8ee9158c-3ff7-4d87-992a-4e6c1c98ad86",
     "showTitle": false,
     "tableResultSettingsMap": {},
     "title": ""
    }
   },
   "outputs": [],
   "source": [
    "abnormal_trips_df.write \\\n",
    "    .format(\"delta\") \\\n",
    "    .mode(\"overwrite\") \\\n",
    "    .option(\"overwriteSchema\", \"true\") \\\n",
    "    .saveAsTable(\"havdeeva_nyc_catalog.trips_schema.raw_trips_abnormal\")"
   ]
  },
  {
   "cell_type": "code",
   "execution_count": 0,
   "metadata": {
    "application/vnd.databricks.v1+cell": {
     "cellMetadata": {
      "byteLimit": 2048000,
      "implicitDf": true,
      "rowLimit": 10000
     },
     "inputWidgets": {},
     "nuid": "c19d1c39-0e2c-4f4c-9e4d-ce4e8d3259a7",
     "showTitle": false,
     "tableResultSettingsMap": {
      "0": {
       "dataGridStateBlob": "{\"version\":1,\"tableState\":{\"columnPinning\":{\"left\":[\"#row_number#\"],\"right\":[]},\"columnSizing\":{},\"columnVisibility\":{}},\"settings\":{\"columns\":{}},\"syncTimestamp\":1753816647539}",
       "filterBlob": null,
       "queryPlanFiltersBlob": null,
       "tableResultIndex": 0
      }
     },
     "title": ""
    }
   },
   "outputs": [],
   "source": [
    "%sql\n",
    "-- describe history havdeeva_nyc_catalog.trips_schema.raw_trips_abnormal;\n",
    "-- select * from havdeeva_nyc_catalog.trips_schema.raw_trips_abnormal;"
   ]
  },
  {
   "cell_type": "markdown",
   "metadata": {
    "application/vnd.databricks.v1+cell": {
     "cellMetadata": {},
     "inputWidgets": {},
     "nuid": "e80ccb27-19d7-4ac6-a99a-e5f1c83985a7",
     "showTitle": false,
     "tableResultSettingsMap": {},
     "title": ""
    }
   },
   "source": [
    "## Add new columns"
   ]
  },
  {
   "cell_type": "code",
   "execution_count": 0,
   "metadata": {
    "application/vnd.databricks.v1+cell": {
     "cellMetadata": {
      "byteLimit": 2048000,
      "rowLimit": 10000
     },
     "inputWidgets": {},
     "nuid": "5964a564-b02e-4b91-b8bc-77f758774b23",
     "showTitle": false,
     "tableResultSettingsMap": {
      "0": {
       "dataGridStateBlob": "{\"version\":1,\"tableState\":{\"columnPinning\":{\"left\":[\"#row_number#\"],\"right\":[]},\"columnSizing\":{\"pickup_hour\":145},\"columnVisibility\":{}},\"settings\":{\"columns\":{}},\"syncTimestamp\":1753816533381}",
       "filterBlob": null,
       "queryPlanFiltersBlob": null,
       "tableResultIndex": 0
      }
     },
     "title": ""
    }
   },
   "outputs": [],
   "source": [
    "# Add new columns to the filtered dataset \n",
    "new_trips_df = filtered_trips_df.withColumn(\n",
    "    \"pickup_hour\", hour(col(\"pickup_datetime\"))  # Extract pickup hour from timestamp\n",
    ").withColumn(\n",
    "    \"pickup_day_of_week\", dayofweek(col(\"pickup_datetime\"))  # Extract pickup day of week \n",
    ").withColumn(\n",
    "    \"duration_min\", (unix_timestamp(col(\"dropoff_datetime\")) - unix_timestamp(col(\"pickup_datetime\"))) / 60  # Calculate duration in minutes\n",
    ")\n",
    "\n",
    "print(\"New trips DataFrame schema:\")\n",
    "new_trips_df.printSchema()\n",
    "\n",
    "# Show example of added data\n",
    "display(new_trips_df)"
   ]
  },
  {
   "cell_type": "markdown",
   "metadata": {
    "application/vnd.databricks.v1+cell": {
     "cellMetadata": {},
     "inputWidgets": {},
     "nuid": "0de17eb8-5c9b-424d-a42e-4634bc7e94c1",
     "showTitle": false,
     "tableResultSettingsMap": {},
     "title": ""
    }
   },
   "source": [
    "## Perform a JOIN with taxi_zone_lookup.csv"
   ]
  },
  {
   "cell_type": "code",
   "execution_count": 0,
   "metadata": {
    "application/vnd.databricks.v1+cell": {
     "cellMetadata": {
      "byteLimit": 2048000,
      "rowLimit": 10000
     },
     "inputWidgets": {},
     "nuid": "2cfebbe2-1349-41c8-be21-0b1fe4cb2a58",
     "showTitle": false,
     "tableResultSettingsMap": {
      "0": {
       "dataGridStateBlob": "{\"version\":1,\"tableState\":{\"columnPinning\":{\"left\":[\"#row_number#\"],\"right\":[]},\"columnSizing\":{\"taxi_type\":126},\"columnVisibility\":{}},\"settings\":{\"columns\":{}},\"syncTimestamp\":1753820700412}",
       "filterBlob": null,
       "queryPlanFiltersBlob": null,
       "tableResultIndex": 0
      }
     },
     "title": ""
    }
   },
   "outputs": [],
   "source": [
    "# Define path to taxi_zone_lookup.csv\n",
    "TAXI_ZONE_LOOKUP_PATH = \"s3://robot-dreams-source-data/home-work-1-unified/nyc_taxi/taxi_zone_lookup.csv\"\n",
    "\n",
    "# Read the taxi_zone_lookup DataFrame\n",
    "taxi_zone_lookup_df = spark.read.option(\"header\", \"true\").csv(TAXI_ZONE_LOOKUP_PATH)\n",
    "\n",
    "# Add columns PULocationID and DOLocationID to taxi_zone_lookup_df\n",
    "taxi_zone_lookup_prepared_df = taxi_zone_lookup_df \\\n",
    "    .withColumn(\"PULocationID\", col(\"LocationID\")) \\\n",
    "    .withColumn(\"DOLocationID\", col(\"LocationID\"))\n",
    "\n",
    "# Perform a broadcast join with new_trips_df\n",
    "final_stage_df = new_trips_df \\\n",
    "    .join(\n",
    "        broadcast(taxi_zone_lookup_prepared_df.alias(\"pickup\")), \n",
    "        new_trips_df[\"PULocationID\"] == col(\"pickup.PULocationID\"),\n",
    "        how=\"left\"\n",
    "    ) \\\n",
    "    .withColumnRenamed(\"Zone\", \"pickup_zone\") \\\n",
    "    .join(\n",
    "        broadcast(taxi_zone_lookup_prepared_df.alias(\"dropoff\")), \n",
    "        new_trips_df[\"DOLocationID\"] == col(\"dropoff.DOLocationID\"),\n",
    "        how=\"left\"\n",
    "    ) \\\n",
    "    .withColumnRenamed(\"Zone\", \"dropoff_zone\") \\\n",
    "    .select(\n",
    "        new_trips_df[\"*\"],  # Select all columns from new_trips_df\n",
    "        col(\"pickup_zone\"),\n",
    "        col(\"dropoff_zone\")\n",
    "    )\n",
    "\n",
    "# Show the schema and the resulting DataFrame\n",
    "final_stage_df.printSchema()\n",
    "display(final_stage_df)"
   ]
  },
  {
   "cell_type": "markdown",
   "metadata": {
    "application/vnd.databricks.v1+cell": {
     "cellMetadata": {},
     "inputWidgets": {},
     "nuid": "c1c3acf3-541a-472f-87b0-1d1929d38d70",
     "showTitle": false,
     "tableResultSettingsMap": {},
     "title": ""
    }
   },
   "source": [
    "## Save data to raw_trips DELTA table"
   ]
  },
  {
   "cell_type": "code",
   "execution_count": 0,
   "metadata": {
    "application/vnd.databricks.v1+cell": {
     "cellMetadata": {
      "byteLimit": 2048000,
      "implicitDf": true,
      "rowLimit": 10000
     },
     "inputWidgets": {},
     "nuid": "eb946b1a-fd29-44b0-8ac4-855a5059fa91",
     "showTitle": false,
     "tableResultSettingsMap": {},
     "title": ""
    }
   },
   "outputs": [],
   "source": [
    "%sql\n",
    "CREATE OR REPLACE TABLE havdeeva_nyc_catalog.trips_schema.raw_trips (\n",
    "    VendorID LONG,\n",
    "    pickup_datetime TIMESTAMP,\n",
    "    dropoff_datetime TIMESTAMP,\n",
    "    passenger_count LONG,\n",
    "    trip_distance DOUBLE,\n",
    "    RatecodeID LONG,\n",
    "    store_and_fwd_flag STRING,\n",
    "    PULocationID LONG,\n",
    "    DOLocationID LONG,\n",
    "    payment_type LONG,\n",
    "    fare_amount DOUBLE,\n",
    "    extra DOUBLE,\n",
    "    mta_tax DOUBLE,\n",
    "    tip_amount DOUBLE,\n",
    "    tolls_amount DOUBLE,\n",
    "    improvement_surcharge DOUBLE,\n",
    "    total_amount DOUBLE,\n",
    "    congestion_surcharge DOUBLE,\n",
    "    airport_fee DOUBLE,\n",
    "    taxi_type STRING NOT NULL,\n",
    "    ehail_fee DOUBLE,\n",
    "    trip_type DOUBLE,\n",
    "    pickup_hour INT,\n",
    "    pickup_day_of_week INT,\n",
    "    duration_min DOUBLE,\n",
    "    pickup_zone STRING,\n",
    "    dropoff_zone STRING\n",
    ")\n",
    "USING DELTA\n",
    "TBLPROPERTIES (\n",
    "    'delta.feature.timestampNtz' = 'supported'\n",
    ");"
   ]
  },
  {
   "cell_type": "code",
   "execution_count": 0,
   "metadata": {
    "application/vnd.databricks.v1+cell": {
     "cellMetadata": {
      "byteLimit": 2048000,
      "rowLimit": 10000
     },
     "inputWidgets": {},
     "nuid": "b39206d3-8ba3-4d2e-bd5f-e8fd78ffc416",
     "showTitle": false,
     "tableResultSettingsMap": {},
     "title": ""
    }
   },
   "outputs": [],
   "source": [
    "final_stage_df \\\n",
    "    .write \\\n",
    "    .format(\"delta\") \\\n",
    "    .mode(\"overwrite\") \\\n",
    "    .option(\"overwriteSchema\", \"true\") \\\n",
    "    .saveAsTable(\"havdeeva_nyc_catalog.trips_schema.raw_trips\")"
   ]
  },
  {
   "cell_type": "code",
   "execution_count": 0,
   "metadata": {
    "application/vnd.databricks.v1+cell": {
     "cellMetadata": {
      "byteLimit": 2048000,
      "implicitDf": true,
      "rowLimit": 10000
     },
     "inputWidgets": {},
     "nuid": "1176415b-19d0-4e7c-8507-b321d62d5945",
     "showTitle": false,
     "tableResultSettingsMap": {},
     "title": ""
    }
   },
   "outputs": [],
   "source": [
    "%sql\n",
    "-- describe history havdeeva_nyc_catalog.trips_schema.raw_trips;\n",
    "select * from havdeeva_nyc_catalog.trips_schema.raw_trips;"
   ]
  },
  {
   "cell_type": "markdown",
   "metadata": {
    "application/vnd.databricks.v1+cell": {
     "cellMetadata": {},
     "inputWidgets": {},
     "nuid": "28b73987-fc66-439a-891c-4762eef4c290",
     "showTitle": false,
     "tableResultSettingsMap": {},
     "title": ""
    }
   },
   "source": [
    "## zone_summary DataFrame creation"
   ]
  },
  {
   "cell_type": "code",
   "execution_count": 0,
   "metadata": {
    "application/vnd.databricks.v1+cell": {
     "cellMetadata": {
      "byteLimit": 2048000,
      "rowLimit": 10000
     },
     "inputWidgets": {},
     "nuid": "6333a785-9052-4608-907b-5f49aba90129",
     "showTitle": false,
     "tableResultSettingsMap": {},
     "title": ""
    }
   },
   "outputs": [],
   "source": [
    "# Group the DataFrame by pickup_zone and perform aggregations\n",
    "zone_summary_df = spark.table('havdeeva_nyc_catalog.trips_schema.raw_trips').groupBy(\"pickup_zone\").agg(\n",
    "    f.count(\"*\").alias(\"total_trips\"),                               # Total trips\n",
    "    f.avg(\"trip_distance\").alias(\"avg_trip_distance\"),               # Average distance\n",
    "    f.avg(\"total_amount\").alias(\"avg_total_amount\"),                 # Average total amount\n",
    "    f.avg(\"tip_amount\").alias(\"avg_tip_amount\"),                     # Average tip amount\n",
    "    f.max(\"trip_distance\").alias(\"max_trip_distance\"),               # Maximum trip distance\n",
    "    f.min(\"tip_amount\").alias(\"min_tip_amount\"),                     # Minimum tip amount\n",
    "    f.sum(f.when(col(\"taxi_type\") == \"yellow\", 1).otherwise(0))      # Count yellow trips\n",
    "        .alias(\"yellow_trips\"),\n",
    "    f.sum(f.when(col(\"taxi_type\") == \"green\", 1).otherwise(0))       # Count green trips\n",
    "        .alias(\"green_trips\")\n",
    ")\n",
    "\n",
    "# Compute yellow_share and green_share\n",
    "zone_summary_df = zone_summary_df.withColumn(\n",
    "    \"yellow_share\", (f.col(\"yellow_trips\") / f.col(\"total_trips\")) * 100\n",
    ").withColumn(\n",
    "    \"green_share\", (f.col(\"green_trips\") / f.col(\"total_trips\")) * 100\n",
    ").drop(\"yellow_trips\", \"green_trips\")  # Drop intermediate counts\n",
    "\n",
    "# Show the resulting zone_summary DataFrame\n",
    "display(zone_summary_df)"
   ]
  },
  {
   "cell_type": "markdown",
   "metadata": {
    "application/vnd.databricks.v1+cell": {
     "cellMetadata": {},
     "inputWidgets": {},
     "nuid": "69a8b357-3efc-46cb-a303-a117f78e87f4",
     "showTitle": false,
     "tableResultSettingsMap": {},
     "title": ""
    }
   },
   "source": [
    "## Save data to zone_summary DELTA table"
   ]
  },
  {
   "cell_type": "code",
   "execution_count": 0,
   "metadata": {
    "application/vnd.databricks.v1+cell": {
     "cellMetadata": {
      "byteLimit": 2048000,
      "implicitDf": true,
      "rowLimit": 10000
     },
     "inputWidgets": {},
     "nuid": "5abf89f4-d376-4e34-b5d4-063ec50c2b5d",
     "showTitle": false,
     "tableResultSettingsMap": {},
     "title": ""
    }
   },
   "outputs": [],
   "source": [
    "%sql\n",
    "CREATE TABLE IF NOT EXISTS havdeeva_nyc_catalog.trips_schema.zone_summary\n",
    "(\n",
    "    pickup_zone STRING,\n",
    "    total_trips BIGINT NOT NULL,\n",
    "    avg_trip_distance DOUBLE,\n",
    "    avg_total_amount DOUBLE,\n",
    "    avg_tip_amount DOUBLE,\n",
    "    max_trip_distance DOUBLE,\n",
    "    min_tip_amount DOUBLE,\n",
    "    yellow_share DOUBLE,\n",
    "    green_share DOUBLE\n",
    ")\n",
    "USING DELTA;"
   ]
  },
  {
   "cell_type": "code",
   "execution_count": 0,
   "metadata": {
    "application/vnd.databricks.v1+cell": {
     "cellMetadata": {
      "byteLimit": 2048000,
      "rowLimit": 10000
     },
     "inputWidgets": {},
     "nuid": "584deace-2549-453d-a122-4244e370532a",
     "showTitle": false,
     "tableResultSettingsMap": {},
     "title": ""
    }
   },
   "outputs": [],
   "source": [
    "zone_summary_df \\\n",
    "    .write \\\n",
    "    .format(\"delta\") \\\n",
    "    .mode(\"overwrite\") \\\n",
    "    .option(\"overwriteSchema\", \"true\") \\\n",
    "    .saveAsTable(\"havdeeva_nyc_catalog.trips_schema.zone_summary\")"
   ]
  },
  {
   "cell_type": "code",
   "execution_count": 0,
   "metadata": {
    "application/vnd.databricks.v1+cell": {
     "cellMetadata": {
      "byteLimit": 2048000,
      "implicitDf": true,
      "rowLimit": 10000
     },
     "inputWidgets": {},
     "nuid": "00928ec0-3b46-4fa5-9cb3-50a89b45e26a",
     "showTitle": false,
     "tableResultSettingsMap": {},
     "title": ""
    }
   },
   "outputs": [],
   "source": [
    "%sql\n",
    "-- select * from havdeeva_nyc_catalog.trips_schema.zone_summary;\n",
    "describe history havdeeva_nyc_catalog.trips_schema.zone_summary;"
   ]
  },
  {
   "cell_type": "markdown",
   "metadata": {
    "application/vnd.databricks.v1+cell": {
     "cellMetadata": {},
     "inputWidgets": {},
     "nuid": "568fcaf5-3db3-4af1-8eec-ec5a2b8ef01b",
     "showTitle": false,
     "tableResultSettingsMap": {},
     "title": ""
    }
   },
   "source": [
    "## zone_days_summary creation"
   ]
  },
  {
   "cell_type": "code",
   "execution_count": 0,
   "metadata": {
    "application/vnd.databricks.v1+cell": {
     "cellMetadata": {
      "byteLimit": 2048000,
      "implicitDf": true,
      "rowLimit": 10000
     },
     "inputWidgets": {},
     "nuid": "26d2a444-79c5-497d-ab23-7117310ae704",
     "showTitle": false,
     "tableResultSettingsMap": {},
     "title": ""
    }
   },
   "outputs": [],
   "source": [
    "%sql\n",
    "CREATE OR REPLACE TABLE havdeeva_nyc_catalog.trips_schema.zone_days_summary\n",
    "USING DELTA\n",
    "AS\n",
    "SELECT\n",
    "    pickup_zone,\n",
    "    pickup_day_of_week,\n",
    "    COUNT(*) AS total_trips, -- Total trips per zone and day\n",
    "    SUM(CASE WHEN total_amount > 30 THEN 1 ELSE 0 END) AS high_fare_trips, -- Total trips with fare > 30\n",
    "    (SUM(CASE WHEN total_amount > 30 THEN 1 ELSE 0 END) * 100.0 / COUNT(*)) AS high_fare_share -- Percentage of trips with fare > 30\n",
    "FROM\n",
    "    havdeeva_nyc_catalog.trips_schema.raw_trips\n",
    "GROUP BY\n",
    "    pickup_zone,\n",
    "    pickup_day_of_week;"
   ]
  },
  {
   "cell_type": "code",
   "execution_count": 0,
   "metadata": {
    "application/vnd.databricks.v1+cell": {
     "cellMetadata": {
      "byteLimit": 2048000,
      "implicitDf": true,
      "rowLimit": 10000
     },
     "inputWidgets": {},
     "nuid": "d4a2505d-48d0-434f-a299-343e4dd2d8e4",
     "showTitle": false,
     "tableResultSettingsMap": {},
     "title": ""
    }
   },
   "outputs": [],
   "source": [
    "%sql\n",
    "select * from havdeeva_nyc_catalog.trips_schema.zone_days_summary;\n",
    "-- describe history havdeeva_nyc_catalog.trips_schema.zone_days_summary;"
   ]
  }
 ],
 "metadata": {
  "application/vnd.databricks.v1+notebook": {
   "computePreferences": null,
   "dashboards": [],
   "environmentMetadata": {
    "base_environment": "",
    "environment_version": "2"
   },
   "inputWidgetPreferences": null,
   "language": "python",
   "notebookMetadata": {
    "mostRecentlyExecutedCommandWithImplicitDF": {
     "commandId": 4874661078103086,
     "dataframes": [
      "_sqldf"
     ]
    },
    "pythonIndentUnit": 4
   },
   "notebookName": "HW4 - Avdeeva",
   "widgets": {}
  },
  "language_info": {
   "name": "python"
  }
 },
 "nbformat": 4,
 "nbformat_minor": 0
}
