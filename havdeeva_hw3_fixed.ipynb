{
 "cells": [
  {
   "cell_type": "markdown",
   "id": "38d00cdd-a9da-44c9-a273-b8d80f18af80",
   "metadata": {},
   "source": [
    "Imports"
   ]
  },
  {
   "cell_type": "code",
   "execution_count": 1,
   "id": "0b076f2d-eb07-48f3-971b-b6529e5652ca",
   "metadata": {
    "execution": {
     "iopub.execute_input": "2025-07-29T15:04:31.837099Z",
     "iopub.status.busy": "2025-07-29T15:04:31.836837Z",
     "iopub.status.idle": "2025-07-29T15:04:42.127649Z",
     "shell.execute_reply": "2025-07-29T15:04:42.127244Z",
     "shell.execute_reply.started": "2025-07-29T15:04:31.837076Z"
    },
    "executionRoleArn": "arn:aws:iam::554739427960:role/service-role/AmazonEMRStudio_RuntimeRole_1753011692435",
    "tags": []
   },
   "outputs": [
    {
     "data": {
      "application/vnd.jupyter.widget-view+json": {
       "model_id": "6219bc26e2ce4c58b7a9c47ec23a1cfd",
       "version_major": 2,
       "version_minor": 0
      },
      "text/plain": [
       "VBox()"
      ]
     },
     "metadata": {},
     "output_type": "display_data"
    },
    {
     "name": "stdout",
     "output_type": "stream",
     "text": [
      "Starting Spark application\n"
     ]
    },
    {
     "data": {
      "text/html": [
       "<table>\n",
       "    <tr><th>ID</th><th>Kind</th><th>State</th><th>Spark UI</th><th>Driver log</th><th>User</th><th>Current session?</th></tr><tr><td>0</td><td>pyspark</td><td>idle</td><td><a target=\"_blank\" href=\"https://spark-live-ui.emr-serverless.amazonaws.com\" class=\"emr-proxy-link\" emr-runtime=\"emr-serverless\" emr-resource=\"00fudhf45nj6n11e\" application-id=\"00fu66bu8u21mj1d\">Link</a></td><td></td><td>None</td><td>✔</td></tr></table>"
      ],
      "text/plain": [
       "<IPython.core.display.HTML object>"
      ]
     },
     "metadata": {},
     "output_type": "display_data"
    },
    {
     "data": {
      "application/vnd.jupyter.widget-view+json": {
       "model_id": "",
       "version_major": 2,
       "version_minor": 0
      },
      "text/plain": [
       "FloatProgress(value=0.0, bar_style='info', description='Progress:', layout=Layout(height='25px', width='50%'),…"
      ]
     },
     "metadata": {},
     "output_type": "display_data"
    },
    {
     "name": "stdout",
     "output_type": "stream",
     "text": [
      "SparkSession available as 'spark'.\n"
     ]
    },
    {
     "data": {
      "application/vnd.jupyter.widget-view+json": {
       "model_id": "",
       "version_major": 2,
       "version_minor": 0
      },
      "text/plain": [
       "FloatProgress(value=0.0, bar_style='info', description='Progress:', layout=Layout(height='25px', width='50%'),…"
      ]
     },
     "metadata": {},
     "output_type": "display_data"
    }
   ],
   "source": [
    "from pyspark.sql import SparkSession\n",
    "from pyspark.sql.functions import lit, col, hour, unix_timestamp, dayofweek\n",
    "from pyspark.sql.types import *\n",
    "from pyspark.sql.functions import broadcast\n",
    "from pyspark.sql import functions as f"
   ]
  },
  {
   "cell_type": "markdown",
   "id": "34fde954-f3b2-484f-ab51-203dc4c41997",
   "metadata": {},
   "source": [
    "### 2.1. Import Yellow and Green taxi data (unnormalized)."
   ]
  },
  {
   "cell_type": "code",
   "execution_count": 2,
   "id": "814e03a7-e766-483e-9d34-766713cbc83d",
   "metadata": {
    "execution": {
     "iopub.execute_input": "2025-07-29T15:04:42.128645Z",
     "iopub.status.busy": "2025-07-29T15:04:42.128494Z",
     "iopub.status.idle": "2025-07-29T15:04:43.429200Z",
     "shell.execute_reply": "2025-07-29T15:04:43.428573Z",
     "shell.execute_reply.started": "2025-07-29T15:04:42.128630Z"
    },
    "executionRoleArn": "arn:aws:iam::554739427960:role/service-role/AmazonEMRStudio_RuntimeRole_1753011692435",
    "tags": []
   },
   "outputs": [
    {
     "data": {
      "application/vnd.jupyter.widget-view+json": {
       "model_id": "e2eb177e1ab54520934364acde65f6f7",
       "version_major": 2,
       "version_minor": 0
      },
      "text/plain": [
       "VBox()"
      ]
     },
     "metadata": {},
     "output_type": "display_data"
    },
    {
     "data": {
      "application/vnd.jupyter.widget-view+json": {
       "model_id": "",
       "version_major": 2,
       "version_minor": 0
      },
      "text/plain": [
       "FloatProgress(value=0.0, bar_style='info', description='Progress:', layout=Layout(height='25px', width='50%'),…"
      ]
     },
     "metadata": {},
     "output_type": "display_data"
    },
    {
     "name": "stderr",
     "output_type": "stream",
     "text": [
      "An error was encountered:\n",
      "name 'DataFrame' is not defined\n",
      "Traceback (most recent call last):\n",
      "NameError: name 'DataFrame' is not defined\n",
      "\n"
     ]
    }
   ],
   "source": [
    "# Function to process Parquet files with schema unification\n",
    "def process_parquet_files(spark, path: str, target_schema: StructType) -> DataFrame:\n",
    "    # Read the directory \n",
    "    temp_df = spark.read.option(\"recursiveFileLookup\", \"true\").parquet(path)\n",
    "    \n",
    "    # Get the list of all Parquet files \n",
    "    files = temp_df.inputFiles()  # Returns a list of full file paths\n",
    "#     print(f\"Found files in {path}:\")\n",
    "#     print(files)\n",
    "\n",
    "    # Process each file individually\n",
    "    dataframes = []\n",
    "    for file in files:\n",
    "        print(f\"Processing file: {file}\")\n",
    "        \n",
    "        # Read the file \n",
    "        df = spark.read.parquet(file)\n",
    "\n",
    "        # Cast columns to match the target schema\n",
    "        for field in target_schema:\n",
    "            column_name = field.name\n",
    "            column_type = field.dataType.simpleString()  \n",
    "            \n",
    "            # Check if the column exists in the file\n",
    "            if column_name in df.columns:\n",
    "                df = df.withColumn(column_name, col(column_name).cast(column_type))\n",
    "            else:\n",
    "                # Add missing columns with null values, cast to the expected type\n",
    "                df = df.withColumn(column_name, col(column_name).cast(column_type).alias(column_name))\n",
    "        \n",
    "        # Add the unified DataFrame for the file to the list\n",
    "        dataframes.append(df)\n",
    "\n",
    "    # Combine all DataFrames\n",
    "    final_df = dataframes[0]\n",
    "    for df in dataframes[1:]:\n",
    "        final_df = final_df.unionByName(df)  # Align columns by name\n",
    "    \n",
    "    return final_df"
   ]
  },
  {
   "cell_type": "code",
   "execution_count": 20,
   "id": "1d0bc0a1-e81c-420a-b823-92c1a9392d5d",
   "metadata": {
    "execution": {
     "iopub.execute_input": "2025-07-23T13:46:54.739601Z",
     "iopub.status.busy": "2025-07-23T13:46:54.739364Z",
     "iopub.status.idle": "2025-07-23T13:47:18.654658Z",
     "shell.execute_reply": "2025-07-23T13:47:18.653933Z",
     "shell.execute_reply.started": "2025-07-23T13:46:54.739574Z"
    },
    "tags": []
   },
   "outputs": [
    {
     "data": {
      "application/vnd.jupyter.widget-view+json": {
       "model_id": "394e23d078d143f1b7cb46f8f59c90a0",
       "version_major": 2,
       "version_minor": 0
      },
      "text/plain": [
       "VBox()"
      ]
     },
     "metadata": {},
     "output_type": "display_data"
    },
    {
     "data": {
      "application/vnd.jupyter.widget-view+json": {
       "model_id": "",
       "version_major": 2,
       "version_minor": 0
      },
      "text/plain": [
       "FloatProgress(value=0.0, bar_style='info', description='Progress:', layout=Layout(height='25px', width='50%'),…"
      ]
     },
     "metadata": {},
     "output_type": "display_data"
    },
    {
     "name": "stdout",
     "output_type": "stream",
     "text": [
      "Processing file: s3://robot-dreams-source-data/home-work-1/nyc_taxi/yellow/2020/yellow_tripdata_2020-01.parquet\n",
      "Processing file: s3://robot-dreams-source-data/home-work-1/nyc_taxi/yellow/2017/yellow_tripdata_2017-01.parquet\n",
      "Processing file: s3://robot-dreams-source-data/home-work-1/nyc_taxi/yellow/2015/yellow_tripdata_2015-09.parquet\n",
      "Processing file: s3://robot-dreams-source-data/home-work-1/nyc_taxi/yellow/2020/yellow_tripdata_2020-12.parquet\n",
      "Processing file: s3://robot-dreams-source-data/home-work-1/nyc_taxi/yellow/2022/yellow_tripdata_2022-05.parquet\n",
      "Processing file: s3://robot-dreams-source-data/home-work-1/nyc_taxi/yellow/2018/yellow_tripdata_2018-12.parquet\n",
      "Processing file: s3://robot-dreams-source-data/home-work-1/nyc_taxi/yellow/2018/yellow_tripdata_2018-04.parquet\n",
      "Processing file: s3://robot-dreams-source-data/home-work-1/nyc_taxi/yellow/2018/yellow_tripdata_2018-09.parquet\n",
      "Processing file: s3://robot-dreams-source-data/home-work-1/nyc_taxi/yellow/2014/yellow_tripdata_2014-08.parquet\n",
      "Processing file: s3://robot-dreams-source-data/home-work-1/nyc_taxi/yellow/2022/yellow_tripdata_2022-04.parquet\n",
      "Processing file: s3://robot-dreams-source-data/home-work-1/nyc_taxi/yellow/2015/yellow_tripdata_2015-04.parquet\n",
      "Processing file: s3://robot-dreams-source-data/home-work-1/nyc_taxi/yellow/2014/yellow_tripdata_2014-12.parquet\n",
      "Processing file: s3://robot-dreams-source-data/home-work-1/nyc_taxi/yellow/2014/yellow_tripdata_2014-03.parquet\n",
      "Processing file: s3://robot-dreams-source-data/home-work-1/nyc_taxi/yellow/2023/yellow_tripdata_2023-01.parquet\n",
      "Processing file: s3://robot-dreams-source-data/home-work-1/nyc_taxi/yellow/2017/yellow_tripdata_2017-08.parquet\n",
      "Processing file: s3://robot-dreams-source-data/home-work-1/nyc_taxi/yellow/2023/yellow_tripdata_2023-05.parquet\n",
      "Processing file: s3://robot-dreams-source-data/home-work-1/nyc_taxi/yellow/2017/yellow_tripdata_2017-06.parquet\n",
      "Processing file: s3://robot-dreams-source-data/home-work-1/nyc_taxi/yellow/2020/yellow_tripdata_2020-04.parquet\n",
      "Processing file: s3://robot-dreams-source-data/home-work-1/nyc_taxi/yellow/2020/yellow_tripdata_2020-05.parquet\n",
      "Processing file: s3://robot-dreams-source-data/home-work-1/nyc_taxi/yellow/2014/yellow_tripdata_2014-01.parquet\n",
      "Processing file: s3://robot-dreams-source-data/home-work-1/nyc_taxi/yellow/2016/yellow_tripdata_2016-06.parquet\n",
      "Processing file: s3://robot-dreams-source-data/home-work-1/nyc_taxi/yellow/2022/yellow_tripdata_2022-10.parquet\n",
      "Processing file: s3://robot-dreams-source-data/home-work-1/nyc_taxi/yellow/2016/yellow_tripdata_2016-03.parquet\n",
      "Processing file: s3://robot-dreams-source-data/home-work-1/nyc_taxi/yellow/2020/yellow_tripdata_2020-11.parquet\n",
      "Processing file: s3://robot-dreams-source-data/home-work-1/nyc_taxi/yellow/2016/yellow_tripdata_2016-09.parquet\n",
      "Processing file: s3://robot-dreams-source-data/home-work-1/nyc_taxi/yellow/2016/yellow_tripdata_2016-05.parquet\n",
      "Processing file: s3://robot-dreams-source-data/home-work-1/nyc_taxi/yellow/2014/yellow_tripdata_2014-06.parquet\n",
      "Processing file: s3://robot-dreams-source-data/home-work-1/nyc_taxi/yellow/2016/yellow_tripdata_2016-01.parquet\n",
      "Processing file: s3://robot-dreams-source-data/home-work-1/nyc_taxi/yellow/2015/yellow_tripdata_2015-12.parquet\n",
      "Processing file: s3://robot-dreams-source-data/home-work-1/nyc_taxi/yellow/2023/yellow_tripdata_2023-06.parquet\n",
      "Processing file: s3://robot-dreams-source-data/home-work-1/nyc_taxi/yellow/2014/yellow_tripdata_2014-04.parquet\n",
      "Processing file: s3://robot-dreams-source-data/home-work-1/nyc_taxi/yellow/2023/yellow_tripdata_2023-02.parquet\n",
      "Processing file: s3://robot-dreams-source-data/home-work-1/nyc_taxi/yellow/2018/yellow_tripdata_2018-06.parquet\n",
      "Processing file: s3://robot-dreams-source-data/home-work-1/nyc_taxi/yellow/2015/yellow_tripdata_2015-03.parquet\n",
      "Processing file: s3://robot-dreams-source-data/home-work-1/nyc_taxi/yellow/2020/yellow_tripdata_2020-03.parquet\n",
      "Processing file: s3://robot-dreams-source-data/home-work-1/nyc_taxi/yellow/2017/yellow_tripdata_2017-12.parquet\n",
      "Processing file: s3://robot-dreams-source-data/home-work-1/nyc_taxi/yellow/2023/yellow_tripdata_2023-09.parquet\n",
      "Processing file: s3://robot-dreams-source-data/home-work-1/nyc_taxi/yellow/2020/yellow_tripdata_2020-07.parquet\n",
      "Processing file: s3://robot-dreams-source-data/home-work-1/nyc_taxi/yellow/2016/yellow_tripdata_2016-10.parquet\n",
      "Processing file: s3://robot-dreams-source-data/home-work-1/nyc_taxi/yellow/2017/yellow_tripdata_2017-07.parquet\n",
      "Processing file: s3://robot-dreams-source-data/home-work-1/nyc_taxi/yellow/2022/yellow_tripdata_2022-01.parquet\n",
      "Processing file: s3://robot-dreams-source-data/home-work-1/nyc_taxi/yellow/2023/yellow_tripdata_2023-08.parquet\n",
      "Processing file: s3://robot-dreams-source-data/home-work-1/nyc_taxi/yellow/2020/yellow_tripdata_2020-10.parquet\n",
      "Processing file: s3://robot-dreams-source-data/home-work-1/nyc_taxi/yellow/2016/yellow_tripdata_2016-12.parquet\n",
      "Processing file: s3://robot-dreams-source-data/home-work-1/nyc_taxi/yellow/2015/yellow_tripdata_2015-06.parquet\n",
      "Processing file: s3://robot-dreams-source-data/home-work-1/nyc_taxi/yellow/2016/yellow_tripdata_2016-08.parquet\n",
      "Processing file: s3://robot-dreams-source-data/home-work-1/nyc_taxi/yellow/2023/yellow_tripdata_2023-03.parquet\n",
      "Processing file: s3://robot-dreams-source-data/home-work-1/nyc_taxi/yellow/2023/yellow_tripdata_2023-04.parquet\n",
      "Processing file: s3://robot-dreams-source-data/home-work-1/nyc_taxi/yellow/2014/yellow_tripdata_2014-05.parquet\n",
      "Processing file: s3://robot-dreams-source-data/home-work-1/nyc_taxi/yellow/2015/yellow_tripdata_2015-07.parquet\n",
      "Processing file: s3://robot-dreams-source-data/home-work-1/nyc_taxi/yellow/2015/yellow_tripdata_2015-11.parquet\n",
      "Processing file: s3://robot-dreams-source-data/home-work-1/nyc_taxi/yellow/2022/yellow_tripdata_2022-02.parquet\n",
      "Processing file: s3://robot-dreams-source-data/home-work-1/nyc_taxi/yellow/2018/yellow_tripdata_2018-05.parquet\n",
      "Processing file: s3://robot-dreams-source-data/home-work-1/nyc_taxi/yellow/2017/yellow_tripdata_2017-11.parquet\n",
      "Processing file: s3://robot-dreams-source-data/home-work-1/nyc_taxi/yellow/2022/yellow_tripdata_2022-03.parquet\n",
      "Processing file: s3://robot-dreams-source-data/home-work-1/nyc_taxi/yellow/2022/yellow_tripdata_2022-06.parquet\n",
      "Processing file: s3://robot-dreams-source-data/home-work-1/nyc_taxi/yellow/2014/yellow_tripdata_2014-10.parquet\n",
      "Processing file: s3://robot-dreams-source-data/home-work-1/nyc_taxi/yellow/2015/yellow_tripdata_2015-10.parquet\n",
      "Processing file: s3://robot-dreams-source-data/home-work-1/nyc_taxi/yellow/2023/yellow_tripdata_2023-07.parquet\n",
      "Processing file: s3://robot-dreams-source-data/home-work-1/nyc_taxi/yellow/2015/yellow_tripdata_2015-02.parquet\n",
      "Processing file: s3://robot-dreams-source-data/home-work-1/nyc_taxi/yellow/2018/yellow_tripdata_2018-02.parquet\n",
      "Processing file: s3://robot-dreams-source-data/home-work-1/nyc_taxi/yellow/2018/yellow_tripdata_2018-01.parquet\n",
      "Processing file: s3://robot-dreams-source-data/home-work-1/nyc_taxi/yellow/2014/yellow_tripdata_2014-09.parquet\n",
      "Processing file: s3://robot-dreams-source-data/home-work-1/nyc_taxi/yellow/2022/yellow_tripdata_2022-07.parquet\n",
      "Processing file: s3://robot-dreams-source-data/home-work-1/nyc_taxi/yellow/2016/yellow_tripdata_2016-11.parquet\n",
      "Processing file: s3://robot-dreams-source-data/home-work-1/nyc_taxi/yellow/2017/yellow_tripdata_2017-09.parquet\n",
      "Processing file: s3://robot-dreams-source-data/home-work-1/nyc_taxi/yellow/2017/yellow_tripdata_2017-04.parquet\n",
      "Processing file: s3://robot-dreams-source-data/home-work-1/nyc_taxi/yellow/2015/yellow_tripdata_2015-08.parquet\n",
      "Processing file: s3://robot-dreams-source-data/home-work-1/nyc_taxi/yellow/2015/yellow_tripdata_2015-05.parquet\n",
      "Processing file: s3://robot-dreams-source-data/home-work-1/nyc_taxi/yellow/2017/yellow_tripdata_2017-10.parquet\n",
      "Processing file: s3://robot-dreams-source-data/home-work-1/nyc_taxi/yellow/2015/yellow_tripdata_2015-01.parquet\n",
      "Processing file: s3://robot-dreams-source-data/home-work-1/nyc_taxi/yellow/2022/yellow_tripdata_2022-08.parquet\n",
      "Processing file: s3://robot-dreams-source-data/home-work-1/nyc_taxi/yellow/2016/yellow_tripdata_2016-04.parquet\n",
      "Processing file: s3://robot-dreams-source-data/home-work-1/nyc_taxi/yellow/2018/yellow_tripdata_2018-10.parquet\n",
      "Processing file: s3://robot-dreams-source-data/home-work-1/nyc_taxi/yellow/2016/yellow_tripdata_2016-02.parquet\n",
      "Processing file: s3://robot-dreams-source-data/home-work-1/nyc_taxi/yellow/2018/yellow_tripdata_2018-11.parquet\n",
      "Processing file: s3://robot-dreams-source-data/home-work-1/nyc_taxi/yellow/2018/yellow_tripdata_2018-07.parquet\n",
      "Processing file: s3://robot-dreams-source-data/home-work-1/nyc_taxi/yellow/2022/yellow_tripdata_2022-11.parquet\n",
      "Processing file: s3://robot-dreams-source-data/home-work-1/nyc_taxi/yellow/2017/yellow_tripdata_2017-02.parquet\n",
      "Processing file: s3://robot-dreams-source-data/home-work-1/nyc_taxi/yellow/2016/yellow_tripdata_2016-07.parquet\n",
      "Processing file: s3://robot-dreams-source-data/home-work-1/nyc_taxi/yellow/2020/yellow_tripdata_2020-08.parquet\n",
      "Processing file: s3://robot-dreams-source-data/home-work-1/nyc_taxi/yellow/2018/yellow_tripdata_2018-08.parquet\n",
      "Processing file: s3://robot-dreams-source-data/home-work-1/nyc_taxi/yellow/2018/yellow_tripdata_2018-03.parquet\n",
      "Processing file: s3://robot-dreams-source-data/home-work-1/nyc_taxi/yellow/2022/yellow_tripdata_2022-12.parquet\n",
      "Processing file: s3://robot-dreams-source-data/home-work-1/nyc_taxi/yellow/2020/yellow_tripdata_2020-09.parquet\n",
      "Processing file: s3://robot-dreams-source-data/home-work-1/nyc_taxi/yellow/2020/yellow_tripdata_2020-06.parquet\n",
      "Processing file: s3://robot-dreams-source-data/home-work-1/nyc_taxi/yellow/2017/yellow_tripdata_2017-03.parquet\n",
      "Processing file: s3://robot-dreams-source-data/home-work-1/nyc_taxi/yellow/2014/yellow_tripdata_2014-11.parquet\n",
      "Processing file: s3://robot-dreams-source-data/home-work-1/nyc_taxi/yellow/2022/yellow_tripdata_2022-09.parquet\n",
      "Processing file: s3://robot-dreams-source-data/home-work-1/nyc_taxi/yellow/2017/yellow_tripdata_2017-05.parquet\n",
      "Processing file: s3://robot-dreams-source-data/home-work-1/nyc_taxi/yellow/2014/yellow_tripdata_2014-02.parquet\n",
      "Processing file: s3://robot-dreams-source-data/home-work-1/nyc_taxi/yellow/2014/yellow_tripdata_2014-07.parquet\n",
      "root\n",
      " |-- VendorID: long (nullable = true)\n",
      " |-- tpep_pickup_datetime: timestamp (nullable = true)\n",
      " |-- tpep_dropoff_datetime: timestamp (nullable = true)\n",
      " |-- passenger_count: long (nullable = true)\n",
      " |-- trip_distance: double (nullable = true)\n",
      " |-- RatecodeID: long (nullable = true)\n",
      " |-- store_and_fwd_flag: string (nullable = true)\n",
      " |-- PULocationID: long (nullable = true)\n",
      " |-- DOLocationID: long (nullable = true)\n",
      " |-- payment_type: long (nullable = true)\n",
      " |-- fare_amount: double (nullable = true)\n",
      " |-- extra: double (nullable = true)\n",
      " |-- mta_tax: double (nullable = true)\n",
      " |-- tip_amount: double (nullable = true)\n",
      " |-- tolls_amount: double (nullable = true)\n",
      " |-- improvement_surcharge: double (nullable = true)\n",
      " |-- total_amount: double (nullable = true)\n",
      " |-- congestion_surcharge: double (nullable = true)\n",
      " |-- airport_fee: double (nullable = true)"
     ]
    }
   ],
   "source": [
    "# Yellow Taxi data processing\n",
    "yellow_taxi_path = \"s3://robot-dreams-source-data/home-work-1/nyc_taxi/yellow\"\n",
    "\n",
    "# Define the Yellow Taxi schema\n",
    "yellow_target_schema = StructType([\n",
    "    StructField(\"VendorID\", LongType(), True),\n",
    "    StructField(\"tpep_pickup_datetime\", TimestampType(), True),\n",
    "    StructField(\"tpep_dropoff_datetime\", TimestampType(), True),\n",
    "    StructField(\"passenger_count\", LongType(), True),\n",
    "    StructField(\"trip_distance\", DoubleType(), True),\n",
    "    StructField(\"RatecodeID\", LongType(), True),\n",
    "    StructField(\"store_and_fwd_flag\", StringType(), True),\n",
    "    StructField(\"PULocationID\", LongType(), True),\n",
    "    StructField(\"DOLocationID\", LongType(), True),\n",
    "    StructField(\"payment_type\", LongType(), True),\n",
    "    StructField(\"fare_amount\", DoubleType(), True),\n",
    "    StructField(\"extra\", DoubleType(), True),\n",
    "    StructField(\"mta_tax\", DoubleType(), True),\n",
    "    StructField(\"tip_amount\", DoubleType(), True),\n",
    "    StructField(\"tolls_amount\", DoubleType(), True),\n",
    "    StructField(\"improvement_surcharge\", DoubleType(), True),\n",
    "    StructField(\"total_amount\", DoubleType(), True),\n",
    "    StructField(\"congestion_surcharge\", DoubleType(), True),\n",
    "    StructField(\"airport_fee\", DoubleType(), True),\n",
    "])\n",
    "\n",
    "# Apply unification function to Yellow Taxi data\n",
    "yellow_taxi_df = process_parquet_files(spark, yellow_taxi_path, yellow_target_schema)\n",
    "\n",
    "# Check the results\n",
    "# yellow_taxi_df.show(5)\n",
    "yellow_taxi_df.printSchema()"
   ]
  },
  {
   "cell_type": "code",
   "execution_count": 21,
   "id": "951bab3f-99d2-4c38-868b-84638e36f90f",
   "metadata": {
    "execution": {
     "iopub.execute_input": "2025-07-23T13:48:34.369872Z",
     "iopub.status.busy": "2025-07-23T13:48:34.369625Z",
     "iopub.status.idle": "2025-07-23T13:49:16.228533Z",
     "shell.execute_reply": "2025-07-23T13:49:16.227829Z",
     "shell.execute_reply.started": "2025-07-23T13:48:34.369844Z"
    },
    "tags": []
   },
   "outputs": [
    {
     "data": {
      "application/vnd.jupyter.widget-view+json": {
       "model_id": "17bb0353bd9d4d3989338ac476c38d48",
       "version_major": 2,
       "version_minor": 0
      },
      "text/plain": [
       "VBox()"
      ]
     },
     "metadata": {},
     "output_type": "display_data"
    },
    {
     "data": {
      "application/vnd.jupyter.widget-view+json": {
       "model_id": "",
       "version_major": 2,
       "version_minor": 0
      },
      "text/plain": [
       "FloatProgress(value=0.0, bar_style='info', description='Progress:', layout=Layout(height='25px', width='50%'),…"
      ]
     },
     "metadata": {},
     "output_type": "display_data"
    },
    {
     "name": "stdout",
     "output_type": "stream",
     "text": [
      "Processing file: s3://robot-dreams-source-data/home-work-1/nyc_taxi/green/2015/green_tripdata_2015-09.parquet\n",
      "Processing file: s3://robot-dreams-source-data/home-work-1/nyc_taxi/green/2015/green_tripdata_2015-06.parquet\n",
      "Processing file: s3://robot-dreams-source-data/home-work-1/nyc_taxi/green/2019/green_tripdata_2019-08.parquet\n",
      "Processing file: s3://robot-dreams-source-data/home-work-1/nyc_taxi/green/2021/green_tripdata_2021-11.parquet\n",
      "Processing file: s3://robot-dreams-source-data/home-work-1/nyc_taxi/green/2022/green_tripdata_2022-09.parquet\n",
      "Processing file: s3://robot-dreams-source-data/home-work-1/nyc_taxi/green/2018/green_tripdata_2018-06.parquet\n",
      "Processing file: s3://robot-dreams-source-data/home-work-1/nyc_taxi/green/2019/green_tripdata_2019-02.parquet\n",
      "Processing file: s3://robot-dreams-source-data/home-work-1/nyc_taxi/green/2015/green_tripdata_2015-03.parquet\n",
      "Processing file: s3://robot-dreams-source-data/home-work-1/nyc_taxi/green/2022/green_tripdata_2022-05.parquet\n",
      "Processing file: s3://robot-dreams-source-data/home-work-1/nyc_taxi/green/2014/green_tripdata_2014-08.parquet\n",
      "Processing file: s3://robot-dreams-source-data/home-work-1/nyc_taxi/green/2019/green_tripdata_2019-03.parquet\n",
      "Processing file: s3://robot-dreams-source-data/home-work-1/nyc_taxi/green/2019/green_tripdata_2019-01.parquet\n",
      "Processing file: s3://robot-dreams-source-data/home-work-1/nyc_taxi/green/2020/green_tripdata_2020-12.parquet\n",
      "Processing file: s3://robot-dreams-source-data/home-work-1/nyc_taxi/green/2022/green_tripdata_2022-08.parquet\n",
      "Processing file: s3://robot-dreams-source-data/home-work-1/nyc_taxi/green/2017/green_tripdata_2017-01.parquet\n",
      "Processing file: s3://robot-dreams-source-data/home-work-1/nyc_taxi/green/2018/green_tripdata_2018-05.parquet\n",
      "Processing file: s3://robot-dreams-source-data/home-work-1/nyc_taxi/green/2021/green_tripdata_2021-04.parquet\n",
      "Processing file: s3://robot-dreams-source-data/home-work-1/nyc_taxi/green/2016/green_tripdata_2016-07.parquet\n",
      "Processing file: s3://robot-dreams-source-data/home-work-1/nyc_taxi/green/2021/green_tripdata_2021-09.parquet\n",
      "Processing file: s3://robot-dreams-source-data/home-work-1/nyc_taxi/green/2016/green_tripdata_2016-06.parquet\n",
      "Processing file: s3://robot-dreams-source-data/home-work-1/nyc_taxi/green/2017/green_tripdata_2017-06.parquet\n",
      "Processing file: s3://robot-dreams-source-data/home-work-1/nyc_taxi/green/2023/green_tripdata_2023-05.parquet\n",
      "Processing file: s3://robot-dreams-source-data/home-work-1/nyc_taxi/green/2015/green_tripdata_2015-12.parquet\n",
      "Processing file: s3://robot-dreams-source-data/home-work-1/nyc_taxi/green/2016/green_tripdata_2016-04.parquet\n",
      "Processing file: s3://robot-dreams-source-data/home-work-1/nyc_taxi/green/2016/green_tripdata_2016-01.parquet\n",
      "Processing file: s3://robot-dreams-source-data/home-work-1/nyc_taxi/green/2016/green_tripdata_2016-08.parquet\n",
      "Processing file: s3://robot-dreams-source-data/home-work-1/nyc_taxi/green/2022/green_tripdata_2022-02.parquet\n",
      "Processing file: s3://robot-dreams-source-data/home-work-1/nyc_taxi/green/2018/green_tripdata_2018-11.parquet\n",
      "Processing file: s3://robot-dreams-source-data/home-work-1/nyc_taxi/green/2020/green_tripdata_2020-05.parquet\n",
      "Processing file: s3://robot-dreams-source-data/home-work-1/nyc_taxi/green/2022/green_tripdata_2022-04.parquet\n",
      "Processing file: s3://robot-dreams-source-data/home-work-1/nyc_taxi/green/2019/green_tripdata_2019-10.parquet\n",
      "Processing file: s3://robot-dreams-source-data/home-work-1/nyc_taxi/green/2014/green_tripdata_2014-02.parquet\n",
      "Processing file: s3://robot-dreams-source-data/home-work-1/nyc_taxi/green/2021/green_tripdata_2021-06.parquet\n",
      "Processing file: s3://robot-dreams-source-data/home-work-1/nyc_taxi/green/2014/green_tripdata_2014-06.parquet\n",
      "Processing file: s3://robot-dreams-source-data/home-work-1/nyc_taxi/green/2019/green_tripdata_2019-11.parquet\n",
      "Processing file: s3://robot-dreams-source-data/home-work-1/nyc_taxi/green/2017/green_tripdata_2017-04.parquet\n",
      "Processing file: s3://robot-dreams-source-data/home-work-1/nyc_taxi/green/2023/green_tripdata_2023-04.parquet\n",
      "Processing file: s3://robot-dreams-source-data/home-work-1/nyc_taxi/green/2021/green_tripdata_2021-07.parquet\n",
      "Processing file: s3://robot-dreams-source-data/home-work-1/nyc_taxi/green/2014/green_tripdata_2014-01.parquet\n",
      "Processing file: s3://robot-dreams-source-data/home-work-1/nyc_taxi/green/2014/green_tripdata_2014-09.parquet\n",
      "Processing file: s3://robot-dreams-source-data/home-work-1/nyc_taxi/green/2014/green_tripdata_2014-03.parquet\n",
      "Processing file: s3://robot-dreams-source-data/home-work-1/nyc_taxi/green/2016/green_tripdata_2016-11.parquet\n",
      "Processing file: s3://robot-dreams-source-data/home-work-1/nyc_taxi/green/2019/green_tripdata_2019-05.parquet\n",
      "Processing file: s3://robot-dreams-source-data/home-work-1/nyc_taxi/green/2018/green_tripdata_2018-07.parquet\n",
      "Processing file: s3://robot-dreams-source-data/home-work-1/nyc_taxi/green/2022/green_tripdata_2022-07.parquet\n",
      "Processing file: s3://robot-dreams-source-data/home-work-1/nyc_taxi/green/2018/green_tripdata_2018-04.parquet\n",
      "Processing file: s3://robot-dreams-source-data/home-work-1/nyc_taxi/green/2014/green_tripdata_2014-10.parquet\n",
      "Processing file: s3://robot-dreams-source-data/home-work-1/nyc_taxi/green/2018/green_tripdata_2018-09.parquet\n",
      "Processing file: s3://robot-dreams-source-data/home-work-1/nyc_taxi/green/2015/green_tripdata_2015-02.parquet\n",
      "Processing file: s3://robot-dreams-source-data/home-work-1/nyc_taxi/green/2015/green_tripdata_2015-10.parquet\n",
      "Processing file: s3://robot-dreams-source-data/home-work-1/nyc_taxi/green/2022/green_tripdata_2022-01.parquet\n",
      "Processing file: s3://robot-dreams-source-data/home-work-1/nyc_taxi/green/2015/green_tripdata_2015-11.parquet\n",
      "Processing file: s3://robot-dreams-source-data/home-work-1/nyc_taxi/green/2023/green_tripdata_2023-07.parquet\n",
      "Processing file: s3://robot-dreams-source-data/home-work-1/nyc_taxi/green/2020/green_tripdata_2020-07.parquet\n",
      "Processing file: s3://robot-dreams-source-data/home-work-1/nyc_taxi/green/2023/green_tripdata_2023-02.parquet\n",
      "Processing file: s3://robot-dreams-source-data/home-work-1/nyc_taxi/green/2020/green_tripdata_2020-03.parquet\n",
      "Processing file: s3://robot-dreams-source-data/home-work-1/nyc_taxi/green/2016/green_tripdata_2016-02.parquet\n",
      "Processing file: s3://robot-dreams-source-data/home-work-1/nyc_taxi/green/2022/green_tripdata_2022-11.parquet\n",
      "Processing file: s3://robot-dreams-source-data/home-work-1/nyc_taxi/green/2020/green_tripdata_2020-06.parquet\n",
      "Processing file: s3://robot-dreams-source-data/home-work-1/nyc_taxi/green/2023/green_tripdata_2023-09.parquet\n",
      "Processing file: s3://robot-dreams-source-data/home-work-1/nyc_taxi/green/2018/green_tripdata_2018-03.parquet\n",
      "Processing file: s3://robot-dreams-source-data/home-work-1/nyc_taxi/green/2020/green_tripdata_2020-09.parquet\n",
      "Processing file: s3://robot-dreams-source-data/home-work-1/nyc_taxi/green/2020/green_tripdata_2020-10.parquet\n",
      "Processing file: s3://robot-dreams-source-data/home-work-1/nyc_taxi/green/2015/green_tripdata_2015-04.parquet\n",
      "Processing file: s3://robot-dreams-source-data/home-work-1/nyc_taxi/green/2014/green_tripdata_2014-07.parquet\n",
      "Processing file: s3://robot-dreams-source-data/home-work-1/nyc_taxi/green/2017/green_tripdata_2017-03.parquet\n",
      "Processing file: s3://robot-dreams-source-data/home-work-1/nyc_taxi/green/2016/green_tripdata_2016-09.parquet\n",
      "Processing file: s3://robot-dreams-source-data/home-work-1/nyc_taxi/green/2019/green_tripdata_2019-12.parquet\n",
      "Processing file: s3://robot-dreams-source-data/home-work-1/nyc_taxi/green/2019/green_tripdata_2019-09.parquet\n",
      "Processing file: s3://robot-dreams-source-data/home-work-1/nyc_taxi/green/2023/green_tripdata_2023-08.parquet\n",
      "Processing file: s3://robot-dreams-source-data/home-work-1/nyc_taxi/green/2020/green_tripdata_2020-01.parquet\n",
      "Processing file: s3://robot-dreams-source-data/home-work-1/nyc_taxi/green/2020/green_tripdata_2020-02.parquet\n",
      "Processing file: s3://robot-dreams-source-data/home-work-1/nyc_taxi/green/2021/green_tripdata_2021-10.parquet\n",
      "Processing file: s3://robot-dreams-source-data/home-work-1/nyc_taxi/green/2016/green_tripdata_2016-12.parquet\n",
      "Processing file: s3://robot-dreams-source-data/home-work-1/nyc_taxi/green/2022/green_tripdata_2022-06.parquet\n",
      "Processing file: s3://robot-dreams-source-data/home-work-1/nyc_taxi/green/2020/green_tripdata_2020-11.parquet\n",
      "Processing file: s3://robot-dreams-source-data/home-work-1/nyc_taxi/green/2016/green_tripdata_2016-03.parquet\n",
      "Processing file: s3://robot-dreams-source-data/home-work-1/nyc_taxi/green/2023/green_tripdata_2023-06.parquet\n",
      "Processing file: s3://robot-dreams-source-data/home-work-1/nyc_taxi/green/2018/green_tripdata_2018-08.parquet\n",
      "Processing file: s3://robot-dreams-source-data/home-work-1/nyc_taxi/green/2021/green_tripdata_2021-03.parquet\n",
      "Processing file: s3://robot-dreams-source-data/home-work-1/nyc_taxi/green/2019/green_tripdata_2019-07.parquet\n",
      "Processing file: s3://robot-dreams-source-data/home-work-1/nyc_taxi/green/2017/green_tripdata_2017-10.parquet\n",
      "Processing file: s3://robot-dreams-source-data/home-work-1/nyc_taxi/green/2021/green_tripdata_2021-12.parquet\n",
      "Processing file: s3://robot-dreams-source-data/home-work-1/nyc_taxi/green/2022/green_tripdata_2022-12.parquet\n",
      "Processing file: s3://robot-dreams-source-data/home-work-1/nyc_taxi/green/2017/green_tripdata_2017-09.parquet\n",
      "Processing file: s3://robot-dreams-source-data/home-work-1/nyc_taxi/green/2021/green_tripdata_2021-05.parquet\n",
      "Processing file: s3://robot-dreams-source-data/home-work-1/nyc_taxi/green/2015/green_tripdata_2015-05.parquet\n",
      "Processing file: s3://robot-dreams-source-data/home-work-1/nyc_taxi/green/2015/green_tripdata_2015-08.parquet\n",
      "Processing file: s3://robot-dreams-source-data/home-work-1/nyc_taxi/green/2014/green_tripdata_2014-11.parquet\n",
      "Processing file: s3://robot-dreams-source-data/home-work-1/nyc_taxi/green/2014/green_tripdata_2014-05.parquet\n",
      "Processing file: s3://robot-dreams-source-data/home-work-1/nyc_taxi/green/2018/green_tripdata_2018-10.parquet\n",
      "Processing file: s3://robot-dreams-source-data/home-work-1/nyc_taxi/green/2016/green_tripdata_2016-05.parquet\n",
      "Processing file: s3://robot-dreams-source-data/home-work-1/nyc_taxi/green/2018/green_tripdata_2018-01.parquet\n",
      "Processing file: s3://robot-dreams-source-data/home-work-1/nyc_taxi/green/2018/green_tripdata_2018-12.parquet\n",
      "Processing file: s3://robot-dreams-source-data/home-work-1/nyc_taxi/green/2018/green_tripdata_2018-02.parquet\n",
      "Processing file: s3://robot-dreams-source-data/home-work-1/nyc_taxi/green/2017/green_tripdata_2017-08.parquet\n",
      "Processing file: s3://robot-dreams-source-data/home-work-1/nyc_taxi/green/2020/green_tripdata_2020-04.parquet\n",
      "Processing file: s3://robot-dreams-source-data/home-work-1/nyc_taxi/green/2016/green_tripdata_2016-10.parquet\n",
      "Processing file: s3://robot-dreams-source-data/home-work-1/nyc_taxi/green/2017/green_tripdata_2017-07.parquet\n",
      "Processing file: s3://robot-dreams-source-data/home-work-1/nyc_taxi/green/2023/green_tripdata_2023-01.parquet\n",
      "Processing file: s3://robot-dreams-source-data/home-work-1/nyc_taxi/green/2023/green_tripdata_2023-03.parquet\n",
      "Processing file: s3://robot-dreams-source-data/home-work-1/nyc_taxi/green/2017/green_tripdata_2017-12.parquet\n",
      "Processing file: s3://robot-dreams-source-data/home-work-1/nyc_taxi/green/2017/green_tripdata_2017-05.parquet\n",
      "Processing file: s3://robot-dreams-source-data/home-work-1/nyc_taxi/green/2022/green_tripdata_2022-03.parquet\n",
      "Processing file: s3://robot-dreams-source-data/home-work-1/nyc_taxi/green/2017/green_tripdata_2017-11.parquet\n",
      "Processing file: s3://robot-dreams-source-data/home-work-1/nyc_taxi/green/2021/green_tripdata_2021-08.parquet\n",
      "Processing file: s3://robot-dreams-source-data/home-work-1/nyc_taxi/green/2019/green_tripdata_2019-04.parquet\n",
      "Processing file: s3://robot-dreams-source-data/home-work-1/nyc_taxi/green/2020/green_tripdata_2020-08.parquet\n",
      "Processing file: s3://robot-dreams-source-data/home-work-1/nyc_taxi/green/2019/green_tripdata_2019-06.parquet\n",
      "Processing file: s3://robot-dreams-source-data/home-work-1/nyc_taxi/green/2021/green_tripdata_2021-01.parquet\n",
      "Processing file: s3://robot-dreams-source-data/home-work-1/nyc_taxi/green/2014/green_tripdata_2014-12.parquet\n",
      "Processing file: s3://robot-dreams-source-data/home-work-1/nyc_taxi/green/2017/green_tripdata_2017-02.parquet\n",
      "Processing file: s3://robot-dreams-source-data/home-work-1/nyc_taxi/green/2015/green_tripdata_2015-07.parquet\n",
      "Processing file: s3://robot-dreams-source-data/home-work-1/nyc_taxi/green/2022/green_tripdata_2022-10.parquet\n",
      "Processing file: s3://robot-dreams-source-data/home-work-1/nyc_taxi/green/2021/green_tripdata_2021-02.parquet\n",
      "Processing file: s3://robot-dreams-source-data/home-work-1/nyc_taxi/green/2015/green_tripdata_2015-01.parquet\n",
      "Processing file: s3://robot-dreams-source-data/home-work-1/nyc_taxi/green/2014/green_tripdata_2014-04.parquet\n",
      "root\n",
      " |-- VendorID: long (nullable = true)\n",
      " |-- lpep_pickup_datetime: timestamp (nullable = true)\n",
      " |-- lpep_dropoff_datetime: timestamp (nullable = true)\n",
      " |-- store_and_fwd_flag: string (nullable = true)\n",
      " |-- RatecodeID: long (nullable = true)\n",
      " |-- PULocationID: long (nullable = true)\n",
      " |-- DOLocationID: long (nullable = true)\n",
      " |-- passenger_count: long (nullable = true)\n",
      " |-- trip_distance: double (nullable = true)\n",
      " |-- fare_amount: double (nullable = true)\n",
      " |-- extra: double (nullable = true)\n",
      " |-- mta_tax: double (nullable = true)\n",
      " |-- tip_amount: double (nullable = true)\n",
      " |-- tolls_amount: double (nullable = true)\n",
      " |-- ehail_fee: double (nullable = true)\n",
      " |-- improvement_surcharge: double (nullable = true)\n",
      " |-- total_amount: double (nullable = true)\n",
      " |-- payment_type: long (nullable = true)\n",
      " |-- trip_type: double (nullable = true)\n",
      " |-- congestion_surcharge: double (nullable = true)"
     ]
    }
   ],
   "source": [
    "# Green Taxi data processing\n",
    "green_taxi_path = \"s3://robot-dreams-source-data/home-work-1/nyc_taxi/green\"\n",
    "\n",
    "# Define the Green Taxi schema\n",
    "green_target_schema = StructType([\n",
    "    StructField(\"VendorID\", LongType(), True),\n",
    "    StructField(\"lpep_pickup_datetime\", TimestampType(), True),\n",
    "    StructField(\"lpep_dropoff_datetime\", TimestampType(), True),\n",
    "    StructField(\"store_and_fwd_flag\", StringType(), True),\n",
    "    StructField(\"RatecodeID\", LongType(), True),\n",
    "    StructField(\"PULocationID\", LongType(), True),\n",
    "    StructField(\"DOLocationID\", LongType(), True),\n",
    "    StructField(\"passenger_count\", LongType(), True),\n",
    "    StructField(\"trip_distance\", DoubleType(), True),\n",
    "    StructField(\"fare_amount\", DoubleType(), True),\n",
    "    StructField(\"extra\", DoubleType(), True),\n",
    "    StructField(\"mta_tax\", DoubleType(), True),\n",
    "    StructField(\"tip_amount\", DoubleType(), True),\n",
    "    StructField(\"tolls_amount\", DoubleType(), True),\n",
    "    StructField(\"ehail_fee\", DoubleType(), True),\n",
    "    StructField(\"improvement_surcharge\", DoubleType(), True),\n",
    "    StructField(\"total_amount\", DoubleType(), True),\n",
    "    StructField(\"payment_type\", LongType(), True),\n",
    "    StructField(\"trip_type\", DoubleType(), True),\n",
    "    StructField(\"congestion_surcharge\", DoubleType(), True),\n",
    "])\n",
    "\n",
    "# Apply unification function to Green Taxi data\n",
    "green_taxi_df = process_parquet_files(spark, green_taxi_path, green_target_schema)\n",
    "\n",
    "# Check the results\n",
    "# green_taxi_df.show(5)\n",
    "green_taxi_df.printSchema()"
   ]
  },
  {
   "cell_type": "code",
   "execution_count": null,
   "id": "179bc5a8-0db0-41cd-866e-2064a9cef83b",
   "metadata": {
    "tags": []
   },
   "outputs": [],
   "source": [
    "# Check that data was indeed unified\n",
    "green_taxi_df.filter(\"congestion_surcharge > 0\").show()\n",
    "# yellow_taxi_df.filter(\"congestion_surcharge > 0\").show()"
   ]
  },
  {
   "cell_type": "markdown",
   "id": "6eca4119-e92f-4aa5-bafd-fe1eab2b615b",
   "metadata": {},
   "source": [
    "### 2.2. Unify schemas: Make sure all columns have the same names and data types. Add a 'taxi_type' column with the appropriate values: yellow or green."
   ]
  },
  {
   "cell_type": "code",
   "execution_count": 23,
   "id": "524892b6-c22f-4140-860e-fef9ec59cd82",
   "metadata": {
    "execution": {
     "iopub.execute_input": "2025-07-23T13:51:23.881778Z",
     "iopub.status.busy": "2025-07-23T13:51:23.881549Z",
     "iopub.status.idle": "2025-07-23T13:51:24.122139Z",
     "shell.execute_reply": "2025-07-23T13:51:24.121502Z",
     "shell.execute_reply.started": "2025-07-23T13:51:23.881752Z"
    },
    "tags": []
   },
   "outputs": [
    {
     "data": {
      "application/vnd.jupyter.widget-view+json": {
       "model_id": "d68f695193114b918fbb3245ad8f3791",
       "version_major": 2,
       "version_minor": 0
      },
      "text/plain": [
       "VBox()"
      ]
     },
     "metadata": {},
     "output_type": "display_data"
    },
    {
     "data": {
      "application/vnd.jupyter.widget-view+json": {
       "model_id": "",
       "version_major": 2,
       "version_minor": 0
      },
      "text/plain": [
       "FloatProgress(value=0.0, bar_style='info', description='Progress:', layout=Layout(height='25px', width='50%'),…"
      ]
     },
     "metadata": {},
     "output_type": "display_data"
    }
   ],
   "source": [
    "# Unify columns and add 'taxi_type' column\n",
    "green_taxi_df = green_taxi_df \\\n",
    "    .withColumn(\"taxi_type\", lit(\"green\")) \\\n",
    "    .withColumnRenamed(\"lpep_pickup_datetime\", \"pickup_datetime\") \\\n",
    "    .withColumnRenamed(\"lpep_dropoff_datetime\", \"dropoff_datetime\")\n",
    "\n",
    "yellow_taxi_df = yellow_taxi_df \\\n",
    "    .withColumn(\"taxi_type\", lit(\"yellow\")) \\\n",
    "    .withColumnRenamed(\"tpep_pickup_datetime\", \"pickup_datetime\") \\\n",
    "    .withColumnRenamed(\"tpep_dropoff_datetime\", \"dropoff_datetime\")"
   ]
  },
  {
   "cell_type": "markdown",
   "id": "a2817e7e-935c-4334-81ef-9fd3df051d57",
   "metadata": {},
   "source": [
    "### 2.3. Combine the data into a single raw_trips_df dataframe."
   ]
  },
  {
   "cell_type": "code",
   "execution_count": 25,
   "id": "49978aac-61e1-4e10-9a1c-398a3d0c5948",
   "metadata": {
    "execution": {
     "iopub.execute_input": "2025-07-23T13:52:07.662199Z",
     "iopub.status.busy": "2025-07-23T13:52:07.661931Z",
     "iopub.status.idle": "2025-07-23T13:52:30.976903Z",
     "shell.execute_reply": "2025-07-23T13:52:30.976236Z",
     "shell.execute_reply.started": "2025-07-23T13:52:07.662161Z"
    },
    "tags": []
   },
   "outputs": [
    {
     "data": {
      "application/vnd.jupyter.widget-view+json": {
       "model_id": "e10a3a58b3e9482db70e51a424820832",
       "version_major": 2,
       "version_minor": 0
      },
      "text/plain": [
       "VBox()"
      ]
     },
     "metadata": {},
     "output_type": "display_data"
    },
    {
     "data": {
      "application/vnd.jupyter.widget-view+json": {
       "model_id": "",
       "version_major": 2,
       "version_minor": 0
      },
      "text/plain": [
       "FloatProgress(value=0.0, bar_style='info', description='Progress:', layout=Layout(height='25px', width='50%'),…"
      ]
     },
     "metadata": {},
     "output_type": "display_data"
    },
    {
     "name": "stdout",
     "output_type": "stream",
     "text": [
      "United dataframe schema:\n",
      "root\n",
      " |-- VendorID: long (nullable = true)\n",
      " |-- pickup_datetime: timestamp (nullable = true)\n",
      " |-- dropoff_datetime: timestamp (nullable = true)\n",
      " |-- passenger_count: long (nullable = true)\n",
      " |-- trip_distance: double (nullable = true)\n",
      " |-- RatecodeID: long (nullable = true)\n",
      " |-- store_and_fwd_flag: string (nullable = true)\n",
      " |-- PULocationID: long (nullable = true)\n",
      " |-- DOLocationID: long (nullable = true)\n",
      " |-- payment_type: long (nullable = true)\n",
      " |-- fare_amount: double (nullable = true)\n",
      " |-- extra: double (nullable = true)\n",
      " |-- mta_tax: double (nullable = true)\n",
      " |-- tip_amount: double (nullable = true)\n",
      " |-- tolls_amount: double (nullable = true)\n",
      " |-- improvement_surcharge: double (nullable = true)\n",
      " |-- total_amount: double (nullable = true)\n",
      " |-- congestion_surcharge: double (nullable = true)\n",
      " |-- airport_fee: double (nullable = true)\n",
      " |-- taxi_type: string (nullable = false)\n",
      " |-- ehail_fee: double (nullable = true)\n",
      " |-- trip_type: double (nullable = true)\n",
      "\n",
      "+--------+-------------------+-------------------+---------------+-------------+----------+------------------+------------+------------+------------+-----------+-----+-------+----------+------------+---------------------+------------+--------------------+-----------+---------+---------+---------+\n",
      "|VendorID|    pickup_datetime|   dropoff_datetime|passenger_count|trip_distance|RatecodeID|store_and_fwd_flag|PULocationID|DOLocationID|payment_type|fare_amount|extra|mta_tax|tip_amount|tolls_amount|improvement_surcharge|total_amount|congestion_surcharge|airport_fee|taxi_type|ehail_fee|trip_type|\n",
      "+--------+-------------------+-------------------+---------------+-------------+----------+------------------+------------+------------+------------+-----------+-----+-------+----------+------------+---------------------+------------+--------------------+-----------+---------+---------+---------+\n",
      "|       1|2020-01-01 00:28:15|2020-01-01 00:33:03|              1|          1.2|         1|                 N|         238|         239|           1|        6.0|  3.0|    0.5|      1.47|         0.0|                  0.3|       11.27|                 2.5|       NULL|   yellow|     NULL|     NULL|\n",
      "|       1|2020-01-01 00:35:39|2020-01-01 00:43:04|              1|          1.2|         1|                 N|         239|         238|           1|        7.0|  3.0|    0.5|       1.5|         0.0|                  0.3|        12.3|                 2.5|       NULL|   yellow|     NULL|     NULL|\n",
      "|       1|2020-01-01 00:47:41|2020-01-01 00:53:52|              1|          0.6|         1|                 N|         238|         238|           1|        6.0|  3.0|    0.5|       1.0|         0.0|                  0.3|        10.8|                 2.5|       NULL|   yellow|     NULL|     NULL|\n",
      "|       1|2020-01-01 00:55:23|2020-01-01 01:00:14|              1|          0.8|         1|                 N|         238|         151|           1|        5.5|  0.5|    0.5|      1.36|         0.0|                  0.3|        8.16|                 0.0|       NULL|   yellow|     NULL|     NULL|\n",
      "|       2|2020-01-01 00:01:58|2020-01-01 00:04:16|              1|          0.0|         1|                 N|         193|         193|           2|        3.5|  0.5|    0.5|       0.0|         0.0|                  0.3|         4.8|                 0.0|       NULL|   yellow|     NULL|     NULL|\n",
      "+--------+-------------------+-------------------+---------------+-------------+----------+------------------+------------+------------+------------+-----------+-----+-------+----------+------------+---------------------+------------+--------------------+-----------+---------+---------+---------+\n",
      "only showing top 5 rows"
     ]
    }
   ],
   "source": [
    "# Union the data\n",
    "raw_trips_df = yellow_taxi_df.unionByName(green_taxi_df, allowMissingColumns = True)\n",
    "\n",
    "# Check the schema\n",
    "print(\"United dataframe schema:\")\n",
    "raw_trips_df.printSchema()\n",
    "\n",
    "# Show example\n",
    "raw_trips_df.show(5)"
   ]
  },
  {
   "cell_type": "code",
   "execution_count": 27,
   "id": "3ad301ea-84c7-48cb-860d-6a4eb4be4d77",
   "metadata": {
    "execution": {
     "iopub.execute_input": "2025-07-23T13:59:16.819615Z",
     "iopub.status.busy": "2025-07-23T13:59:16.819344Z",
     "iopub.status.idle": "2025-07-23T13:59:16.858953Z",
     "shell.execute_reply": "2025-07-23T13:59:16.857465Z",
     "shell.execute_reply.started": "2025-07-23T13:59:16.819588Z"
    },
    "tags": []
   },
   "outputs": [
    {
     "data": {
      "application/vnd.jupyter.widget-view+json": {
       "model_id": "261b09e53f0e46d28bb5c61b27773f54",
       "version_major": 2,
       "version_minor": 0
      },
      "text/plain": [
       "VBox()"
      ]
     },
     "metadata": {},
     "output_type": "display_data"
    },
    {
     "data": {
      "application/vnd.jupyter.widget-view+json": {
       "model_id": "",
       "version_major": 2,
       "version_minor": 0
      },
      "text/plain": [
       "FloatProgress(value=0.0, bar_style='info', description='Progress:', layout=Layout(height='25px', width='50%'),…"
      ]
     },
     "metadata": {},
     "output_type": "display_data"
    }
   ],
   "source": [
    "# Check number of partitions \n",
    "# raw_trips_df.rdd.getNumPartitions() "
   ]
  },
  {
   "cell_type": "code",
   "execution_count": 28,
   "id": "b1813823-c4d5-4d0b-8ef2-eaccf9b0a9ff",
   "metadata": {
    "execution": {
     "iopub.execute_input": "2025-07-23T13:59:19.838324Z",
     "iopub.status.busy": "2025-07-23T13:59:19.838094Z",
     "iopub.status.idle": "2025-07-23T14:10:53.372766Z",
     "shell.execute_reply": "2025-07-23T14:10:53.372102Z",
     "shell.execute_reply.started": "2025-07-23T13:59:19.838298Z"
    }
   },
   "outputs": [
    {
     "data": {
      "application/vnd.jupyter.widget-view+json": {
       "model_id": "0253d469ce834990a2bf5f86b8281f47",
       "version_major": 2,
       "version_minor": 0
      },
      "text/plain": [
       "VBox()"
      ]
     },
     "metadata": {},
     "output_type": "display_data"
    },
    {
     "data": {
      "application/vnd.jupyter.widget-view+json": {
       "model_id": "",
       "version_major": 2,
       "version_minor": 0
      },
      "text/plain": [
       "FloatProgress(value=0.0, bar_style='info', description='Progress:', layout=Layout(height='25px', width='50%'),…"
      ]
     },
     "metadata": {},
     "output_type": "display_data"
    },
    {
     "name": "stdout",
     "output_type": "stream",
     "text": [
      "Yellow Taxi Count: 745067811, Green Taxi Count: 82630053, Raw Trips Count: 827697864\n",
      "Check passed"
     ]
    }
   ],
   "source": [
    "# Cache raw_trips_df data for better perfomance  \n",
    "raw_trips_df.cache()\n",
    "\n",
    "# Data check to test union \n",
    "raw_trips_df.count() # + trigger catching as an action"
   ]
  },
  {
   "cell_type": "markdown",
   "id": "1b27a262-ee49-47fe-923d-36d4925bb7b2",
   "metadata": {},
   "source": [
    "### 2.4. Filter out anomalous records: Remove trips with distance < 0.1 km, fare < 2, duration < 1 min."
   ]
  },
  {
   "cell_type": "code",
   "execution_count": 30,
   "id": "8557422a-0149-4c89-9338-4b3d024588d5",
   "metadata": {
    "execution": {
     "iopub.execute_input": "2025-07-23T14:12:28.292751Z",
     "iopub.status.busy": "2025-07-23T14:12:28.292513Z",
     "iopub.status.idle": "2025-07-23T14:14:35.871220Z",
     "shell.execute_reply": "2025-07-23T14:14:35.870582Z",
     "shell.execute_reply.started": "2025-07-23T14:12:28.292725Z"
    },
    "tags": []
   },
   "outputs": [
    {
     "data": {
      "application/vnd.jupyter.widget-view+json": {
       "model_id": "9b5798811b564ea5904e481766d449cb",
       "version_major": 2,
       "version_minor": 0
      },
      "text/plain": [
       "VBox()"
      ]
     },
     "metadata": {},
     "output_type": "display_data"
    },
    {
     "data": {
      "application/vnd.jupyter.widget-view+json": {
       "model_id": "",
       "version_major": 2,
       "version_minor": 0
      },
      "text/plain": [
       "FloatProgress(value=0.0, bar_style='info', description='Progress:', layout=Layout(height='25px', width='50%'),…"
      ]
     },
     "metadata": {},
     "output_type": "display_data"
    }
   ],
   "source": [
    "# Define filter conditions for valid data\n",
    "valid_condition = (\n",
    "    (col(\"trip_distance\") >= 0.1) &  # trips with distance >= 0.1 km\n",
    "    (col(\"fare_amount\") >= 2) &      # trips with fare amount >= $2\n",
    "    ((unix_timestamp(col(\"dropoff_datetime\")) - unix_timestamp(col(\"pickup_datetime\"))) >= 60)  # trips with duration >= 1 minute\n",
    ")\n",
    "\n",
    "# Filter valid trips (normal trips)\n",
    "filtered_trips_df = raw_trips_df.filter(valid_condition)\n",
    "\n",
    "# Filtering abnormal trips \n",
    "abnormal_trips_df = raw_trips_df.filter(~valid_condition)  \n",
    "\n",
    "# Save abnormal trips to storage, so malformed data can be analyzed later ('overwrite' mode was choosen just for usability)\n",
    "abnormal_trips_df.write.mode(\"overwrite\").parquet(\"s3://havdeeva-emr-studio/data/stage/abnormal_data/\")"
   ]
  },
  {
   "cell_type": "code",
   "execution_count": 31,
   "id": "79cfe134-e57f-4a8d-8a4b-c04378670d05",
   "metadata": {
    "execution": {
     "iopub.execute_input": "2025-07-23T14:14:35.872486Z",
     "iopub.status.busy": "2025-07-23T14:14:35.872315Z",
     "iopub.status.idle": "2025-07-23T14:16:01.349219Z",
     "shell.execute_reply": "2025-07-23T14:16:01.348418Z",
     "shell.execute_reply.started": "2025-07-23T14:14:35.872462Z"
    }
   },
   "outputs": [
    {
     "data": {
      "application/vnd.jupyter.widget-view+json": {
       "model_id": "561d68b6334c41a8b4f71ecf5e1b7db6",
       "version_major": 2,
       "version_minor": 0
      },
      "text/plain": [
       "VBox()"
      ]
     },
     "metadata": {},
     "output_type": "display_data"
    },
    {
     "data": {
      "application/vnd.jupyter.widget-view+json": {
       "model_id": "",
       "version_major": 2,
       "version_minor": 0
      },
      "text/plain": [
       "FloatProgress(value=0.0, bar_style='info', description='Progress:', layout=Layout(height='25px', width='50%'),…"
      ]
     },
     "metadata": {},
     "output_type": "display_data"
    },
    {
     "name": "stdout",
     "output_type": "stream",
     "text": [
      "+--------+-------------+-----------+\n",
      "|VendorID|trip_distance|fare_amount|\n",
      "+--------+-------------+-----------+\n",
      "|       1|          0.1|        2.0|\n",
      "|       2|          0.1|        2.0|\n",
      "|       2|          0.1|        2.0|\n",
      "|       1|          0.1|        2.0|\n",
      "|       1|          0.1|        2.0|\n",
      "+--------+-------------+-----------+\n",
      "only showing top 5 rows"
     ]
    }
   ],
   "source": [
    "# Show example of filtered data\n",
    "filtered_trips_df.select(\"VendorID\", \"trip_distance\", \"fare_amount\").orderBy(\"trip_distance\",\"fare_amount\").show(5)"
   ]
  },
  {
   "cell_type": "code",
   "execution_count": 32,
   "id": "14d2525e-0fb3-404f-af5a-6ef653453d1e",
   "metadata": {
    "execution": {
     "iopub.execute_input": "2025-07-23T14:16:01.350612Z",
     "iopub.status.busy": "2025-07-23T14:16:01.350445Z",
     "iopub.status.idle": "2025-07-23T14:17:26.819777Z",
     "shell.execute_reply": "2025-07-23T14:17:26.819010Z",
     "shell.execute_reply.started": "2025-07-23T14:16:01.350590Z"
    }
   },
   "outputs": [
    {
     "data": {
      "application/vnd.jupyter.widget-view+json": {
       "model_id": "5ae2227d838e46c7be280138f5be8649",
       "version_major": 2,
       "version_minor": 0
      },
      "text/plain": [
       "VBox()"
      ]
     },
     "metadata": {},
     "output_type": "display_data"
    },
    {
     "data": {
      "application/vnd.jupyter.widget-view+json": {
       "model_id": "",
       "version_major": 2,
       "version_minor": 0
      },
      "text/plain": [
       "FloatProgress(value=0.0, bar_style='info', description='Progress:', layout=Layout(height='25px', width='50%'),…"
      ]
     },
     "metadata": {},
     "output_type": "display_data"
    },
    {
     "name": "stdout",
     "output_type": "stream",
     "text": [
      "+--------+-------------+-----------+\n",
      "|VendorID|trip_distance|fare_amount|\n",
      "+--------+-------------+-----------+\n",
      "|       1|-4.08401244E7|        2.5|\n",
      "|       1|-4.00955322E7|        0.0|\n",
      "|       1|   -3446729.6|        2.5|\n",
      "|       1|    -186318.4|        2.5|\n",
      "|       2|    -20329.08|      40.45|\n",
      "+--------+-------------+-----------+\n",
      "only showing top 5 rows"
     ]
    }
   ],
   "source": [
    "# Show example of abnormal data\n",
    "abnormal_trips_df.select(\"VendorID\", \"trip_distance\", \"fare_amount\").orderBy(\"trip_distance\",\"fare_amount\").show(5)"
   ]
  },
  {
   "cell_type": "markdown",
   "id": "ca4561c0-128c-41ed-9cc2-3ce776e7bf0d",
   "metadata": {},
   "source": [
    "### 2.5. Add the following columns: pickup_hour — the hour the trip starts, pickup_day_of_week — the day of the week, duration_min — the duration of the trip in minutes."
   ]
  },
  {
   "cell_type": "code",
   "execution_count": 33,
   "id": "293a242c-d43a-40e2-9275-dda92edda9ac",
   "metadata": {
    "execution": {
     "iopub.execute_input": "2025-07-23T14:17:46.788384Z",
     "iopub.status.busy": "2025-07-23T14:17:46.788156Z",
     "iopub.status.idle": "2025-07-23T14:17:47.532756Z",
     "shell.execute_reply": "2025-07-23T14:17:47.531963Z",
     "shell.execute_reply.started": "2025-07-23T14:17:46.788360Z"
    },
    "tags": []
   },
   "outputs": [
    {
     "data": {
      "application/vnd.jupyter.widget-view+json": {
       "model_id": "c8eae7c99fdb4cef8151a6bd2472fae0",
       "version_major": 2,
       "version_minor": 0
      },
      "text/plain": [
       "VBox()"
      ]
     },
     "metadata": {},
     "output_type": "display_data"
    },
    {
     "data": {
      "application/vnd.jupyter.widget-view+json": {
       "model_id": "",
       "version_major": 2,
       "version_minor": 0
      },
      "text/plain": [
       "FloatProgress(value=0.0, bar_style='info', description='Progress:', layout=Layout(height='25px', width='50%'),…"
      ]
     },
     "metadata": {},
     "output_type": "display_data"
    },
    {
     "name": "stdout",
     "output_type": "stream",
     "text": [
      "Yellow taxi DataFrame schema:\n",
      "root\n",
      " |-- VendorID: long (nullable = true)\n",
      " |-- pickup_datetime: timestamp (nullable = true)\n",
      " |-- dropoff_datetime: timestamp (nullable = true)\n",
      " |-- passenger_count: long (nullable = true)\n",
      " |-- trip_distance: double (nullable = true)\n",
      " |-- RatecodeID: long (nullable = true)\n",
      " |-- store_and_fwd_flag: string (nullable = true)\n",
      " |-- PULocationID: long (nullable = true)\n",
      " |-- DOLocationID: long (nullable = true)\n",
      " |-- payment_type: long (nullable = true)\n",
      " |-- fare_amount: double (nullable = true)\n",
      " |-- extra: double (nullable = true)\n",
      " |-- mta_tax: double (nullable = true)\n",
      " |-- tip_amount: double (nullable = true)\n",
      " |-- tolls_amount: double (nullable = true)\n",
      " |-- improvement_surcharge: double (nullable = true)\n",
      " |-- total_amount: double (nullable = true)\n",
      " |-- congestion_surcharge: double (nullable = true)\n",
      " |-- airport_fee: double (nullable = true)\n",
      " |-- taxi_type: string (nullable = false)\n",
      " |-- ehail_fee: double (nullable = true)\n",
      " |-- trip_type: double (nullable = true)\n",
      " |-- pickup_hour: integer (nullable = true)\n",
      " |-- pickup_day_of_week: integer (nullable = true)\n",
      " |-- duration_min: double (nullable = true)"
     ]
    }
   ],
   "source": [
    "# Add new columns to the filtered dataset \n",
    "new_trips_df = filtered_trips_df.withColumn(\n",
    "    \"pickup_hour\", hour(col(\"pickup_datetime\"))  # Extract pickup hour from timestamp\n",
    ").withColumn(\n",
    "    \"pickup_day_of_week\", dayofweek(col(\"pickup_datetime\"))  # Extract pickup day of week \n",
    ").withColumn(\n",
    "    \"duration_min\", (unix_timestamp(col(\"dropoff_datetime\")) - unix_timestamp(col(\"pickup_datetime\"))) / 60  # Calculate duration in minutes\n",
    ")\n",
    "\n",
    "print(\"Yellow taxi DataFrame schema:\")\n",
    "new_trips_df.printSchema()"
   ]
  },
  {
   "cell_type": "code",
   "execution_count": 34,
   "id": "566d5aff-f931-4b83-b316-be8728de3245",
   "metadata": {
    "execution": {
     "iopub.execute_input": "2025-07-23T14:17:50.296204Z",
     "iopub.status.busy": "2025-07-23T14:17:50.295945Z",
     "iopub.status.idle": "2025-07-23T14:17:53.555426Z",
     "shell.execute_reply": "2025-07-23T14:17:53.554476Z",
     "shell.execute_reply.started": "2025-07-23T14:17:50.296175Z"
    },
    "tags": []
   },
   "outputs": [
    {
     "data": {
      "application/vnd.jupyter.widget-view+json": {
       "model_id": "dc314ecf28544ec9a078a2c98dae19fe",
       "version_major": 2,
       "version_minor": 0
      },
      "text/plain": [
       "VBox()"
      ]
     },
     "metadata": {},
     "output_type": "display_data"
    },
    {
     "data": {
      "application/vnd.jupyter.widget-view+json": {
       "model_id": "",
       "version_major": 2,
       "version_minor": 0
      },
      "text/plain": [
       "FloatProgress(value=0.0, bar_style='info', description='Progress:', layout=Layout(height='25px', width='50%'),…"
      ]
     },
     "metadata": {},
     "output_type": "display_data"
    },
    {
     "name": "stdout",
     "output_type": "stream",
     "text": [
      "+--------+-------------------+-----------+-------------------+------------------+-------------------+-------------------+-----------------+\n",
      "|VendorID|    pickup_datetime|pickup_hour|    pickup_datetime|pickup_day_of_week|   dropoff_datetime|    pickup_datetime|     duration_min|\n",
      "+--------+-------------------+-----------+-------------------+------------------+-------------------+-------------------+-----------------+\n",
      "|       1|2020-01-01 00:28:15|          0|2020-01-01 00:28:15|                 4|2020-01-01 00:33:03|2020-01-01 00:28:15|              4.8|\n",
      "|       1|2020-01-01 00:35:39|          0|2020-01-01 00:35:39|                 4|2020-01-01 00:43:04|2020-01-01 00:35:39|7.416666666666667|\n",
      "|       1|2020-01-01 00:47:41|          0|2020-01-01 00:47:41|                 4|2020-01-01 00:53:52|2020-01-01 00:47:41|6.183333333333334|\n",
      "|       1|2020-01-01 00:55:23|          0|2020-01-01 00:55:23|                 4|2020-01-01 01:00:14|2020-01-01 00:55:23|             4.85|\n",
      "|       1|2020-01-01 00:29:01|          0|2020-01-01 00:29:01|                 4|2020-01-01 00:40:28|2020-01-01 00:29:01|            11.45|\n",
      "+--------+-------------------+-----------+-------------------+------------------+-------------------+-------------------+-----------------+\n",
      "only showing top 5 rows"
     ]
    }
   ],
   "source": [
    "# Show example of added data\n",
    "new_trips_df.select(\"VendorID\", \"pickup_datetime\", \"pickup_hour\", \"pickup_datetime\", \"pickup_day_of_week\", \"dropoff_datetime\", \"pickup_datetime\", \"duration_min\").show(5)"
   ]
  },
  {
   "cell_type": "markdown",
   "id": "4e2377b4-4e59-4dad-be87-f9fb32e6f89f",
   "metadata": {},
   "source": [
    "### 2.6. Perform a JOIN with taxi_zone_lookup.csv, adding the pickup_zone, dropoff_zone fields."
   ]
  },
  {
   "cell_type": "code",
   "execution_count": 35,
   "id": "567e7a00-a3fb-49f3-8679-2414814d2422",
   "metadata": {
    "execution": {
     "iopub.execute_input": "2025-07-23T14:18:00.974117Z",
     "iopub.status.busy": "2025-07-23T14:18:00.973868Z",
     "iopub.status.idle": "2025-07-23T14:18:06.242775Z",
     "shell.execute_reply": "2025-07-23T14:18:06.242072Z",
     "shell.execute_reply.started": "2025-07-23T14:18:00.974082Z"
    },
    "tags": []
   },
   "outputs": [
    {
     "data": {
      "application/vnd.jupyter.widget-view+json": {
       "model_id": "fcce5c24a346498196e8cd8fc21615da",
       "version_major": 2,
       "version_minor": 0
      },
      "text/plain": [
       "VBox()"
      ]
     },
     "metadata": {},
     "output_type": "display_data"
    },
    {
     "data": {
      "application/vnd.jupyter.widget-view+json": {
       "model_id": "",
       "version_major": 2,
       "version_minor": 0
      },
      "text/plain": [
       "FloatProgress(value=0.0, bar_style='info', description='Progress:', layout=Layout(height='25px', width='50%'),…"
      ]
     },
     "metadata": {},
     "output_type": "display_data"
    },
    {
     "name": "stdout",
     "output_type": "stream",
     "text": [
      "Taxi zone lookup DataFrame schema:\n",
      "root\n",
      " |-- LocationID: string (nullable = true)\n",
      " |-- Borough: string (nullable = true)\n",
      " |-- Zone: string (nullable = true)\n",
      " |-- service_zone: string (nullable = true)\n",
      "\n",
      "+--------+------------+--------------------+------------+--------------------+\n",
      "|VendorID|PULocationID|         pickup_zone|DOLocationID|        dropoff_zone|\n",
      "+--------+------------+--------------------+------------+--------------------+\n",
      "|       1|         238|Upper West Side N...|         239|Upper West Side S...|\n",
      "|       1|         239|Upper West Side S...|         238|Upper West Side N...|\n",
      "|       1|         238|Upper West Side N...|         238|Upper West Side N...|\n",
      "|       1|         238|Upper West Side N...|         151|    Manhattan Valley|\n",
      "|       1|         246|West Chelsea/Huds...|          48|        Clinton East|\n",
      "+--------+------------+--------------------+------------+--------------------+\n",
      "only showing top 5 rows"
     ]
    }
   ],
   "source": [
    "# Define taxi_zone_lookup.csv path\n",
    "TAXI_ZONE_LOOKUP_PATH = \"s3://robot-dreams-source-data/home-work-1-unified/nyc_taxi/taxi_zone_lookup.csv\"\n",
    "\n",
    "# Read taxi_zone_lookup data\n",
    "taxi_zone_lookup_df = spark.read.option(\"header\", \"true\").csv(TAXI_ZONE_LOOKUP_PATH)\n",
    "\n",
    "# Add new columns in advance for better JOIN performance\n",
    "taxi_zone_lookup_prepared_df = taxi_zone_lookup_df \\\n",
    "    .withColumn(\"PULocationID\", col(\"LocationID\")) \\\n",
    "    .withColumn(\"DOLocationID\", col(\"LocationID\"))\n",
    "\n",
    "print(\"Taxi zone lookup DataFrame schema:\")\n",
    "taxi_zone_lookup_df.printSchema()\n",
    "\n",
    "# Perform JOIN for both pickup_zone and dropoff_zone\n",
    "final_stage_df = new_trips_df \\\n",
    "    .join(\n",
    "        broadcast(taxi_zone_lookup_prepared_df.alias(\"pickup\")), \n",
    "        new_trips_df[\"PULocationID\"] == col(\"pickup.PULocationID\"),\n",
    "        how=\"left\"\n",
    "    ) \\\n",
    "    .withColumnRenamed(\"Zone\", \"pickup_zone\") \\\n",
    "    .drop(\"PULocationID\") \\\n",
    "    .join(\n",
    "        broadcast(taxi_zone_lookup_prepared_df.alias(\"dropoff\")), \n",
    "        new_trips_df[\"DOLocationID\"] == col(\"dropoff.DOLocationID\"),\n",
    "        how=\"left\"\n",
    "    ) \\\n",
    "    .withColumnRenamed(\"Zone\", \"dropoff_zone\")\n",
    "\n",
    "# Show the final DataFrame\n",
    "final_stage_df.select(\"VendorID\", \"PULocationID\", \"pickup_zone\", \"DOLocationID\", \"dropoff_zone\").show(5)"
   ]
  },
  {
   "cell_type": "code",
   "execution_count": 36,
   "id": "2ebd2b78-5537-4463-9f66-f10219249c7d",
   "metadata": {
    "execution": {
     "iopub.execute_input": "2025-07-23T14:18:39.099022Z",
     "iopub.status.busy": "2025-07-23T14:18:39.098774Z",
     "iopub.status.idle": "2025-07-23T14:26:41.666458Z",
     "shell.execute_reply": "2025-07-23T14:26:41.665854Z",
     "shell.execute_reply.started": "2025-07-23T14:18:39.098995Z"
    },
    "tags": []
   },
   "outputs": [
    {
     "data": {
      "application/vnd.jupyter.widget-view+json": {
       "model_id": "5c5427f67c9c450f980be76d595fbb9c",
       "version_major": 2,
       "version_minor": 0
      },
      "text/plain": [
       "VBox()"
      ]
     },
     "metadata": {},
     "output_type": "display_data"
    },
    {
     "data": {
      "application/vnd.jupyter.widget-view+json": {
       "model_id": "",
       "version_major": 2,
       "version_minor": 0
      },
      "text/plain": [
       "FloatProgress(value=0.0, bar_style='info', description='Progress:', layout=Layout(height='25px', width='50%'),…"
      ]
     },
     "metadata": {},
     "output_type": "display_data"
    }
   ],
   "source": [
    "# Save stage data to storage ('overwrite' mode was choosen just for usability)\n",
    "final_stage_df.write.mode(\"overwrite\").parquet(\"s3://havdeeva-emr-studio/data/stage/final_data/\")"
   ]
  },
  {
   "cell_type": "markdown",
   "id": "e1536d77-1d48-4b37-885e-a2ed5e747561",
   "metadata": {},
   "source": [
    "### 3.1. Creating and aggregating the final zone_summary dataframe"
   ]
  },
  {
   "cell_type": "code",
   "execution_count": 42,
   "id": "c749539e-1e45-4339-8fe6-32da49f9535e",
   "metadata": {
    "execution": {
     "iopub.execute_input": "2025-07-23T14:42:17.912653Z",
     "iopub.status.busy": "2025-07-23T14:42:17.912281Z",
     "iopub.status.idle": "2025-07-23T14:44:09.498258Z",
     "shell.execute_reply": "2025-07-23T14:44:09.497542Z",
     "shell.execute_reply.started": "2025-07-23T14:42:17.912607Z"
    },
    "tags": []
   },
   "outputs": [
    {
     "data": {
      "application/vnd.jupyter.widget-view+json": {
       "model_id": "214b2227dd2242d1a79742d40d5cbdd8",
       "version_major": 2,
       "version_minor": 0
      },
      "text/plain": [
       "VBox()"
      ]
     },
     "metadata": {},
     "output_type": "display_data"
    },
    {
     "data": {
      "application/vnd.jupyter.widget-view+json": {
       "model_id": "",
       "version_major": 2,
       "version_minor": 0
      },
      "text/plain": [
       "FloatProgress(value=0.0, bar_style='info', description='Progress:', layout=Layout(height='25px', width='50%'),…"
      ]
     },
     "metadata": {},
     "output_type": "display_data"
    },
    {
     "name": "stdout",
     "output_type": "stream",
     "text": [
      "+--------------------+-----------+------------------+------------------+-------------------+-----------------+--------------+------------------+--------------------+\n",
      "|         pickup_zone|total_trips| avg_trip_distance|  avg_total_amount|     avg_tip_amount|max_trip_distance|min_tip_amount|      yellow_share|         green_share|\n",
      "+--------------------+-----------+------------------+------------------+-------------------+-----------------+--------------+------------------+--------------------+\n",
      "|         Westerleigh|       1246| 8.713531300160511| 39.15078651685394|  2.402479935794543|            116.8|           0.0| 48.23434991974318|   51.76565008025682|\n",
      "|Charleston/Totten...|       1746|28.525727376861415|  89.6182932416953| 2.3222909507445593|            103.0|           0.0|  87.0561282932417|  12.943871706758307|\n",
      "|      Pelham Parkway|      97553|16.481890562053447|18.983224401094677| 0.5783059465111277|        221944.04|           0.0|10.126802866134305|   89.87319713386569|\n",
      "|           Rego Park|     702615| 4.956687702369006|16.124493285796813| 0.7988088497968295|        185845.97|           0.0| 9.981426528041673|   90.01857347195833|\n",
      "|   Kew Gardens Hills|      62384| 17.99999503077713|22.452608200820702| 1.0339016414465245|        215534.25|           0.0|29.744806360605285|   70.25519363939472|\n",
      "|     Jackson Heights|    2642840|3.6654592067624225|13.118191275292247|  0.537822395604729|        179356.87|           0.0|15.269861209910552|   84.73013879008946|\n",
      "|      Yorkville West|   13214846| 5.738323397790608|13.992334938297489|  1.569482080230084|     1.46800001E7|           0.0| 99.56827344034126|  0.4317265596587353|\n",
      "|Stuy Town/Peter C...|    2159630|10.691385524372192|14.376736227963075| 1.6163395766867519|        8000040.0|           0.0| 99.97207855049245|0.027921449507554534|\n",
      "|        Clinton Hill|    1595984| 4.748863560035689|15.349782529146218| 1.4286644164352555|         250051.0|           0.0| 21.63467804188513|   78.36532195811486|\n",
      "|   East Harlem South|    8813965| 3.345872783701775| 13.91951964638375| 1.1918127392155544|         833180.0|         -0.07|53.182534761597076|  46.817465238402924|\n",
      "|            Longwood|      76860|10.113770101483215| 17.51053721051253|0.39725565964090537|        101165.19|           0.0|10.744210252406974|   89.25578974759303|\n",
      "|           Hudson Sq|    4385571| 6.593508548829809|15.783121832943086| 1.9057066183628457|     1.46645031E7|           0.0| 99.99523437198941|0.004765628010582886|\n",
      "|Upper East Side N...|   26142940| 3.579347698843376|13.292185396868653| 1.4665199568220217|     1.18000052E7|         -4.42| 99.23375488755282|  0.7662451124471846|\n",
      "|       Prospect Park|     141440| 6.591219386312218| 17.26918856052032| 1.6545686510180995|         121606.3|          -0.1| 30.43198529411765|   69.56801470588235|\n",
      "|       East Elmhurst|     488363| 9.299915923196465| 40.94583400052743|   4.73784211744133|        175262.86|           0.0| 80.23683202863444|   19.76316797136556|\n",
      "|            Union Sq|   23389195| 4.252136906379165|14.212888703921797| 1.6731893051470743|     1.18000021E7|           0.0| 99.99620765058395|0.003792349416044...|\n",
      "|       South Jamaica|      96623| 30.82823665172889| 49.07111526241154|  3.779086138911028|        216764.76|           0.0| 59.23848359086345|   40.76151640913654|\n",
      "|   Rossville/Woodrow|        187|22.291711229946536| 76.98465240641708| 3.8273262032085564|            45.78|           0.0| 71.12299465240642|   28.87700534759358|\n",
      "|Downtown Brooklyn...|    2392408|4.4909321946758265|17.484114331666717| 1.7126050489715858|         450000.0|           0.0| 41.40067246055021|  58.599327539449796|\n",
      "|Saint George/New ...|       5461|20.519540377220288|27.227960080571325| 1.2891961179271207|         61577.86|           0.0| 38.83904046877861|  61.160959531221394|\n",
      "+--------------------+-----------+------------------+------------------+-------------------+-----------------+--------------+------------------+--------------------+\n",
      "only showing top 20 rows"
     ]
    }
   ],
   "source": [
    "# Group the DataFrame by pickup_zone and perform aggregations\n",
    "zone_summary_df = final_stage_df.groupBy(\"pickup_zone\").agg(\n",
    "    f.count(\"*\").alias(\"total_trips\"),                               # Total trips\n",
    "    f.avg(\"trip_distance\").alias(\"avg_trip_distance\"),               # Average distance\n",
    "    f.avg(\"total_amount\").alias(\"avg_total_amount\"),                 # Average total amount\n",
    "    f.avg(\"tip_amount\").alias(\"avg_tip_amount\"),                     # Average tip amount\n",
    "    f.max(\"trip_distance\").alias(\"max_trip_distance\"),               # Maximum trip distance\n",
    "    f.min(\"tip_amount\").alias(\"min_tip_amount\"),                     # Minimum tip amount\n",
    "    f.sum(f.when(col(\"taxi_type\") == \"yellow\", 1).otherwise(0))      # Count yellow trips\n",
    "        .alias(\"yellow_trips\"),\n",
    "    f.sum(f.when(col(\"taxi_type\") == \"green\", 1).otherwise(0))       # Count green trips\n",
    "        .alias(\"green_trips\")\n",
    ")\n",
    "\n",
    "# Compute yellow_share and green_share\n",
    "zone_summary_df = zone_summary_df.withColumn(\n",
    "    \"yellow_share\", (f.col(\"yellow_trips\") / f.col(\"total_trips\")) * 100\n",
    ").withColumn(\n",
    "    \"green_share\", (f.col(\"green_trips\") / f.col(\"total_trips\")) * 100\n",
    ").drop(\"yellow_trips\", \"green_trips\")  # Drop intermediate counts\n",
    "\n",
    "# Show the resulting zone_summary DataFrame\n",
    "zone_summary_df.show(5)"
   ]
  },
  {
   "cell_type": "markdown",
   "id": "222efddd-f08d-4e48-a0d9-4a312244fa4a",
   "metadata": {},
   "source": [
    "### 4. Aggregation by day of the week and zone\n"
   ]
  },
  {
   "cell_type": "markdown",
   "id": "bb6a5214-f0fe-4936-b619-483a0c6eca59",
   "metadata": {},
   "source": [
    "### 4.1. Count the number of trips for a given day of the week (e.g., Monday — Sunday, etc.).\n",
    "### 4.2. Calculate the share of trips with fares over $30 for each zone (high_fare_share)."
   ]
  },
  {
   "cell_type": "code",
   "execution_count": 47,
   "id": "19c859ba-c216-40bd-8665-41a3c0b3d02c",
   "metadata": {
    "execution": {
     "iopub.execute_input": "2025-07-23T14:46:58.377857Z",
     "iopub.status.busy": "2025-07-23T14:46:58.377631Z",
     "iopub.status.idle": "2025-07-23T14:48:47.932409Z",
     "shell.execute_reply": "2025-07-23T14:48:47.931640Z",
     "shell.execute_reply.started": "2025-07-23T14:46:58.377832Z"
    },
    "tags": []
   },
   "outputs": [
    {
     "data": {
      "application/vnd.jupyter.widget-view+json": {
       "model_id": "02a6e11db32a4e7ba3d3c70f10cc01ac",
       "version_major": 2,
       "version_minor": 0
      },
      "text/plain": [
       "VBox()"
      ]
     },
     "metadata": {},
     "output_type": "display_data"
    },
    {
     "data": {
      "application/vnd.jupyter.widget-view+json": {
       "model_id": "",
       "version_major": 2,
       "version_minor": 0
      },
      "text/plain": [
       "FloatProgress(value=0.0, bar_style='info', description='Progress:', layout=Layout(height='25px', width='50%'),…"
      ]
     },
     "metadata": {},
     "output_type": "display_data"
    },
    {
     "name": "stdout",
     "output_type": "stream",
     "text": [
      "+--------------------+------------------+-----------+------------------+\n",
      "|         pickup_zone|pickup_day_of_week|total_trips|   high_fare_share|\n",
      "+--------------------+------------------+-----------+------------------+\n",
      "|Washington Height...|                 6|     111674|15.630316815015133|\n",
      "|         Old Astoria|                 7|     176034| 9.358987468329982|\n",
      "|           Hudson Sq|                 5|     682825| 8.317797385860214|\n",
      "|                SoHo|                 1|     919281| 5.897543841328169|\n",
      "|       South Jamaica|                 5|      14183| 69.22371853627583|\n",
      "|Marine Park/Mill ...|                 5|       8735| 33.87521465369204|\n",
      "|        Bedford Park|                 2|      23499|10.208945061491978|\n",
      "|            Longwood|                 4|      10177|13.402770954112214|\n",
      "|     Carroll Gardens|                 5|     153368|14.619086119659903|\n",
      "|            Gramercy|                 2|    2125183| 4.826266726206637|\n",
      "|          Ocean Hill|                 3|      18724|19.456312753685108|\n",
      "|           Bay Ridge|                 6|      22347| 34.46995122387793|\n",
      "|Williamsbridge/Ol...|                 6|      14557|29.889400288520985|\n",
      "|           Stapleton|                 1|        350|49.142857142857146|\n",
      "|      Central Harlem|                 2|     775925| 5.511744047427265|\n",
      "|       Alphabet City|                 7|     470297|5.5488340346632015|\n",
      "|  Claremont/Bathgate|                 1|      16678|10.348962705360355|\n",
      "|Bay Terrace/Fort ...|                 1|        937| 58.05763073639274|\n",
      "| UN/Turtle Bay South|                 2|    1319472| 7.124668049037797|\n",
      "|             Gowanus|                 4|      48994|11.183002000244928|\n",
      "+--------------------+------------------+-----------+------------------+\n",
      "only showing top 20 rows"
     ]
    }
   ],
   "source": [
    "# Group by pickup_zone and pickup_day_of_week, compute aggregations\n",
    "zone_days_summary_df = final_stage_df.groupBy(\"pickup_zone\", \"pickup_day_of_week\").agg(\n",
    "    f.count(\"*\").alias(\"total_trips\"),                           # Total trips per zone and day\n",
    "    f.sum(f.when(f.col(\"total_amount\") > 30, 1).otherwise(0))    # Total trips with fare > $30\n",
    "        .alias(\"high_fare_trips\")\n",
    ")\n",
    "\n",
    "# Calculate high_fare_share (percentage of trips with fare > $30)\n",
    "zone_days_summary_df = zone_days_summary_df.withColumn(\n",
    "    \"high_fare_share\", (f.col(\"high_fare_trips\") / f.col(\"total_trips\")) * 100\n",
    ").drop(\"high_fare_trips\")  # Drop intermediate column\n",
    "\n",
    "# Show the result\n",
    "zone_days_summary_df.show()"
   ]
  },
  {
   "cell_type": "markdown",
   "id": "b3e9a00f-460d-4260-bf1d-c43ade1134eb",
   "metadata": {},
   "source": [
    "### 3.2, 4.3. Save aggregation results: Write the results to a single files"
   ]
  },
  {
   "cell_type": "code",
   "execution_count": 58,
   "id": "a8396f92-b23a-4518-b2b4-eee857452469",
   "metadata": {
    "execution": {
     "iopub.execute_input": "2025-07-23T17:28:19.236911Z",
     "iopub.status.busy": "2025-07-23T17:28:19.236596Z",
     "iopub.status.idle": "2025-07-23T17:31:45.201749Z",
     "shell.execute_reply": "2025-07-23T17:31:45.201074Z",
     "shell.execute_reply.started": "2025-07-23T17:28:19.236872Z"
    },
    "tags": []
   },
   "outputs": [
    {
     "data": {
      "application/vnd.jupyter.widget-view+json": {
       "model_id": "d8dc92ed09b742b8a8de77957a936603",
       "version_major": 2,
       "version_minor": 0
      },
      "text/plain": [
       "VBox()"
      ]
     },
     "metadata": {},
     "output_type": "display_data"
    },
    {
     "data": {
      "application/vnd.jupyter.widget-view+json": {
       "model_id": "",
       "version_major": 2,
       "version_minor": 0
      },
      "text/plain": [
       "FloatProgress(value=0.0, bar_style='info', description='Progress:', layout=Layout(height='25px', width='50%'),…"
      ]
     },
     "metadata": {},
     "output_type": "display_data"
    },
    {
     "name": "stdout",
     "output_type": "stream",
     "text": [
      "Data successfully written to bucket"
     ]
    }
   ],
   "source": [
    "import datetime\n",
    "\n",
    "# Format date as YYYYMMDD\n",
    "current_date = datetime.datetime.now().strftime(\"%Y%m%d\")\n",
    "\n",
    "# Save the zone_days_stats DataFrame to S3 in Parquet format\n",
    "zone_days_summary_df.coalesce(1).write.mode(\"overwrite\").parquet(\n",
    "    f\"s3://havdeeva-emr-studio/results/zone_statistic/{current_date}/zone_statistic.parquet\"\n",
    ")\n",
    "zone_summary_df.coalesce(1).write.mode(\"overwrite\").parquet(\n",
    "    f\"s3://havdeeva-emr-studio/results/zone_days_statistic/{current_date}/zone_days_statistic.parquet\"\n",
    ")\n",
    "\n",
    "print(\"Data successfully written to bucket\")"
   ]
  },
  {
   "cell_type": "code",
   "execution_count": null,
   "id": "b3b539ef-39af-4c28-8e91-d64ac396e319",
   "metadata": {},
   "outputs": [],
   "source": []
  }
 ],
 "metadata": {
  "kernelspec": {
   "display_name": "PySpark",
   "language": "python",
   "name": "spark_magic_pyspark"
  },
  "language_info": {
   "codemirror_mode": {
    "name": "python",
    "version": 3
   },
   "file_extension": ".py",
   "mimetype": "text/x-python",
   "name": "pyspark",
   "pygments_lexer": "python3"
  }
 },
 "nbformat": 4,
 "nbformat_minor": 5
}
